{
 "cells": [
  {
   "cell_type": "markdown",
   "metadata": {},
   "source": [
    "## &#128205; Basic Setups"
   ]
  },
  {
   "cell_type": "code",
   "execution_count": 1,
   "metadata": {
    "scrolled": true
   },
   "outputs": [
    {
     "name": "stdout",
     "output_type": "stream",
     "text": [
      "Requirement already satisfied: numpy in c:\\programdata\\anaconda3\\lib\\site-packages (1.16.2)\n",
      "Requirement already satisfied: pandas in c:\\programdata\\anaconda3\\lib\\site-packages (0.24.2)\n",
      "Requirement already satisfied: numpy>=1.12.0 in c:\\programdata\\anaconda3\\lib\\site-packages (from pandas) (1.16.2)\n",
      "Requirement already satisfied: python-dateutil>=2.5.0 in c:\\programdata\\anaconda3\\lib\\site-packages (from pandas) (2.8.0)\n",
      "Requirement already satisfied: pytz>=2011k in c:\\programdata\\anaconda3\\lib\\site-packages (from pandas) (2018.9)\n",
      "Requirement already satisfied: six>=1.5 in c:\\programdata\\anaconda3\\lib\\site-packages (from python-dateutil>=2.5.0->pandas) (1.12.0)\n",
      "Requirement already satisfied: matplotlib==3.0.3 in c:\\programdata\\anaconda3\\lib\\site-packages (3.0.3)\n",
      "Requirement already satisfied: numpy>=1.10.0 in c:\\programdata\\anaconda3\\lib\\site-packages (from matplotlib==3.0.3) (1.16.2)\n",
      "Requirement already satisfied: cycler>=0.10 in c:\\programdata\\anaconda3\\lib\\site-packages (from matplotlib==3.0.3) (0.10.0)\n",
      "Requirement already satisfied: kiwisolver>=1.0.1 in c:\\programdata\\anaconda3\\lib\\site-packages (from matplotlib==3.0.3) (1.0.1)\n",
      "Requirement already satisfied: pyparsing!=2.0.4,!=2.1.2,!=2.1.6,>=2.0.1 in c:\\programdata\\anaconda3\\lib\\site-packages (from matplotlib==3.0.3) (2.3.1)\n",
      "Requirement already satisfied: python-dateutil>=2.1 in c:\\programdata\\anaconda3\\lib\\site-packages (from matplotlib==3.0.3) (2.8.0)\n",
      "Requirement already satisfied: six in c:\\programdata\\anaconda3\\lib\\site-packages (from cycler>=0.10->matplotlib==3.0.3) (1.12.0)\n",
      "Requirement already satisfied: setuptools in c:\\programdata\\anaconda3\\lib\\site-packages (from kiwisolver>=1.0.1->matplotlib==3.0.3) (40.8.0)\n",
      "Requirement already satisfied: seaborn in c:\\programdata\\anaconda3\\lib\\site-packages (0.9.0)\n",
      "Requirement already satisfied: numpy>=1.9.3 in c:\\programdata\\anaconda3\\lib\\site-packages (from seaborn) (1.16.2)\n",
      "Requirement already satisfied: matplotlib>=1.4.3 in c:\\programdata\\anaconda3\\lib\\site-packages (from seaborn) (3.0.3)\n",
      "Requirement already satisfied: pandas>=0.15.2 in c:\\programdata\\anaconda3\\lib\\site-packages (from seaborn) (0.24.2)\n",
      "Requirement already satisfied: scipy>=0.14.0 in c:\\programdata\\anaconda3\\lib\\site-packages (from seaborn) (1.2.1)\n",
      "Requirement already satisfied: cycler>=0.10 in c:\\programdata\\anaconda3\\lib\\site-packages (from matplotlib>=1.4.3->seaborn) (0.10.0)\n",
      "Requirement already satisfied: kiwisolver>=1.0.1 in c:\\programdata\\anaconda3\\lib\\site-packages (from matplotlib>=1.4.3->seaborn) (1.0.1)\n",
      "Requirement already satisfied: pyparsing!=2.0.4,!=2.1.2,!=2.1.6,>=2.0.1 in c:\\programdata\\anaconda3\\lib\\site-packages (from matplotlib>=1.4.3->seaborn) (2.3.1)\n",
      "Requirement already satisfied: python-dateutil>=2.1 in c:\\programdata\\anaconda3\\lib\\site-packages (from matplotlib>=1.4.3->seaborn) (2.8.0)\n",
      "Requirement already satisfied: pytz>=2011k in c:\\programdata\\anaconda3\\lib\\site-packages (from pandas>=0.15.2->seaborn) (2018.9)\n",
      "Requirement already satisfied: six in c:\\programdata\\anaconda3\\lib\\site-packages (from cycler>=0.10->matplotlib>=1.4.3->seaborn) (1.12.0)\n",
      "Requirement already satisfied: setuptools in c:\\programdata\\anaconda3\\lib\\site-packages (from kiwisolver>=1.0.1->matplotlib>=1.4.3->seaborn) (40.8.0)\n"
     ]
    }
   ],
   "source": [
    "# Install pip packages in the current Jupyter kernel\n",
    "# https://jakevdp.github.io/blog/2017/12/05/installing-python-packages-from-jupyter/ \n",
    "import sys \n",
    "!{sys.executable} -m pip install numpy\n",
    "!{sys.executable} -m pip install pandas\n",
    "!{sys.executable} -m pip install matplotlib==3.0.3\n",
    "!{sys.executable} -m pip install seaborn"
   ]
  },
  {
   "cell_type": "code",
   "execution_count": 2,
   "metadata": {},
   "outputs": [],
   "source": [
    "import numpy as np\n",
    "import pandas as pd\n",
    "import matplotlib.pyplot as plt \n",
    "import seaborn as sns \n",
    "\n",
    "# 커널을 구성하다보면 에러는 아니지만, 빨간색 네모 박스 warning이 뜨는 경우가 많다. \n",
    "# 그런 보기 싫은 부분들을 제거해주겠다.\n",
    "import warnings\n",
    "warnings.filterwarnings('ignore')\n",
    "\n",
    "# notebook을 실행한 브라우저에서 바로 그림을 볼 수 있게 해주는 것\n",
    "%matplotlib inline "
   ]
  },
  {
   "cell_type": "code",
   "execution_count": 3,
   "metadata": {},
   "outputs": [
    {
     "data": {
      "text/plain": [
       "'C:\\\\Users\\\\BokyungChoi\\\\Desktop\\\\GrowthHackers\\\\교육\\\\bonnie 세션\\\\시각화'"
      ]
     },
     "execution_count": 3,
     "metadata": {},
     "output_type": "execute_result"
    }
   ],
   "source": [
    "# os 패키지를 통해 현재 디렉토리 위치를 변경하고, read_csv를 더 편리하게 할 수 있음\n",
    "import os\n",
    "os.getcwd() # 현재 디렉토리 파악\n",
    "# os.chdir(r\"______\") # 불러오고 싶은 파일이 위치한 주소를 ___에 입력"
   ]
  },
  {
   "cell_type": "markdown",
   "metadata": {},
   "source": [
    "**쥬피터 노트북에서 시각화할때, matplotlib가 한글 폰트 지원하지 않아, 깨짐 처리해줘야 함**"
   ]
  },
  {
   "cell_type": "code",
   "execution_count": 4,
   "metadata": {},
   "outputs": [],
   "source": [
    "import matplotlib.pyplot as plt \n",
    "import platform                \n",
    "\n",
    "#아마 요즘 matplotlib는 이런거 안해도 잘 될수도 있어요!\n",
    "from matplotlib import font_manager, rc\n",
    "plt.rcParams['axes.unicode_minus']= False\n",
    "\n",
    "if platform.system() == 'Darwin': #맥os 사용자의 경우에\n",
    "    rc('font', family = 'AppleGothic')\n",
    "    \n",
    "elif platform.system() == 'Windows':#윈도우 사용자의 경우에\n",
    "    path = 'c:/Windows/Fonts/malgun.ttf'\n",
    "    font_name = font_manager.FontProperties(fname=path).get_name()\n",
    "    plt.style.use('seaborn-darkgrid') # https://python-graph-gallery.com/199-matplotlib-style-sheets/\n",
    "    rc('font', family=font_name)"
   ]
  },
  {
   "cell_type": "markdown",
   "metadata": {},
   "source": [
    "## &#128205; Read Data"
   ]
  },
  {
   "cell_type": "code",
   "execution_count": 5,
   "metadata": {},
   "outputs": [
    {
     "data": {
      "text/html": [
       "<div>\n",
       "<style scoped>\n",
       "    .dataframe tbody tr th:only-of-type {\n",
       "        vertical-align: middle;\n",
       "    }\n",
       "\n",
       "    .dataframe tbody tr th {\n",
       "        vertical-align: top;\n",
       "    }\n",
       "\n",
       "    .dataframe thead th {\n",
       "        text-align: right;\n",
       "    }\n",
       "</style>\n",
       "<table border=\"1\" class=\"dataframe\">\n",
       "  <thead>\n",
       "    <tr style=\"text-align: right;\">\n",
       "      <th></th>\n",
       "      <th>start_date</th>\n",
       "      <th>end_date</th>\n",
       "      <th>start_hour</th>\n",
       "      <th>end_hour</th>\n",
       "      <th>trip_duration</th>\n",
       "      <th>start_station_id</th>\n",
       "      <th>start_station_name</th>\n",
       "      <th>start_station_latitude</th>\n",
       "      <th>start_station_longitude</th>\n",
       "      <th>end_station_id</th>\n",
       "      <th>end_station_name</th>\n",
       "      <th>end_station_latitude</th>\n",
       "      <th>end_station_longitude</th>\n",
       "      <th>bike_id</th>\n",
       "      <th>usertype</th>\n",
       "      <th>birth_year</th>\n",
       "      <th>gender</th>\n",
       "      <th>day_since_register</th>\n",
       "    </tr>\n",
       "  </thead>\n",
       "  <tbody>\n",
       "    <tr>\n",
       "      <th>0</th>\n",
       "      <td>2018-05-01</td>\n",
       "      <td>2018-05-01</td>\n",
       "      <td>4</td>\n",
       "      <td>4</td>\n",
       "      <td>390</td>\n",
       "      <td>3002</td>\n",
       "      <td>South End Ave &amp; Liberty St</td>\n",
       "      <td>40.711512</td>\n",
       "      <td>-74.015756</td>\n",
       "      <td>79</td>\n",
       "      <td>Franklin St &amp; W Broadway</td>\n",
       "      <td>40.719116</td>\n",
       "      <td>-74.006667</td>\n",
       "      <td>21105</td>\n",
       "      <td>Subscriber</td>\n",
       "      <td>1945</td>\n",
       "      <td>male</td>\n",
       "      <td>36</td>\n",
       "    </tr>\n",
       "    <tr>\n",
       "      <th>1</th>\n",
       "      <td>2018-05-01</td>\n",
       "      <td>2018-05-01</td>\n",
       "      <td>1</td>\n",
       "      <td>1</td>\n",
       "      <td>854</td>\n",
       "      <td>3611</td>\n",
       "      <td>Vernon Blvd &amp; 47 Rd</td>\n",
       "      <td>40.744907</td>\n",
       "      <td>-73.953457</td>\n",
       "      <td>3572</td>\n",
       "      <td>34 Ave &amp; 38 St</td>\n",
       "      <td>40.756913</td>\n",
       "      <td>-73.921631</td>\n",
       "      <td>32219</td>\n",
       "      <td>Subscriber</td>\n",
       "      <td>1998</td>\n",
       "      <td>male</td>\n",
       "      <td>29</td>\n",
       "    </tr>\n",
       "    <tr>\n",
       "      <th>2</th>\n",
       "      <td>2018-05-01</td>\n",
       "      <td>2018-05-01</td>\n",
       "      <td>4</td>\n",
       "      <td>4</td>\n",
       "      <td>526</td>\n",
       "      <td>515</td>\n",
       "      <td>W 43 St &amp; 10 Ave</td>\n",
       "      <td>40.760094</td>\n",
       "      <td>-73.994618</td>\n",
       "      <td>388</td>\n",
       "      <td>W 26 St &amp; 10 Ave</td>\n",
       "      <td>40.749718</td>\n",
       "      <td>-74.002950</td>\n",
       "      <td>33433</td>\n",
       "      <td>Subscriber</td>\n",
       "      <td>1954</td>\n",
       "      <td>male</td>\n",
       "      <td>55</td>\n",
       "    </tr>\n",
       "    <tr>\n",
       "      <th>3</th>\n",
       "      <td>2018-05-01</td>\n",
       "      <td>2018-05-01</td>\n",
       "      <td>3</td>\n",
       "      <td>3</td>\n",
       "      <td>885</td>\n",
       "      <td>3641</td>\n",
       "      <td>Broadway &amp; W 25 St</td>\n",
       "      <td>40.742869</td>\n",
       "      <td>-73.989186</td>\n",
       "      <td>336</td>\n",
       "      <td>Sullivan St &amp; Washington Sq</td>\n",
       "      <td>40.730477</td>\n",
       "      <td>-73.999061</td>\n",
       "      <td>32028</td>\n",
       "      <td>Subscriber</td>\n",
       "      <td>1963</td>\n",
       "      <td>male</td>\n",
       "      <td>32</td>\n",
       "    </tr>\n",
       "    <tr>\n",
       "      <th>4</th>\n",
       "      <td>2018-05-01</td>\n",
       "      <td>2018-05-01</td>\n",
       "      <td>1</td>\n",
       "      <td>1</td>\n",
       "      <td>324</td>\n",
       "      <td>3440</td>\n",
       "      <td>Fulton St &amp; Adams St</td>\n",
       "      <td>40.692418</td>\n",
       "      <td>-73.989495</td>\n",
       "      <td>3308</td>\n",
       "      <td>Kane St &amp; Clinton St</td>\n",
       "      <td>40.686176</td>\n",
       "      <td>-73.996453</td>\n",
       "      <td>26425</td>\n",
       "      <td>Subscriber</td>\n",
       "      <td>1965</td>\n",
       "      <td>male</td>\n",
       "      <td>34</td>\n",
       "    </tr>\n",
       "  </tbody>\n",
       "</table>\n",
       "</div>"
      ],
      "text/plain": [
       "   start_date    end_date  start_hour  end_hour  trip_duration  \\\n",
       "0  2018-05-01  2018-05-01           4         4            390   \n",
       "1  2018-05-01  2018-05-01           1         1            854   \n",
       "2  2018-05-01  2018-05-01           4         4            526   \n",
       "3  2018-05-01  2018-05-01           3         3            885   \n",
       "4  2018-05-01  2018-05-01           1         1            324   \n",
       "\n",
       "   start_station_id          start_station_name  start_station_latitude  \\\n",
       "0              3002  South End Ave & Liberty St               40.711512   \n",
       "1              3611         Vernon Blvd & 47 Rd               40.744907   \n",
       "2               515            W 43 St & 10 Ave               40.760094   \n",
       "3              3641          Broadway & W 25 St               40.742869   \n",
       "4              3440        Fulton St & Adams St               40.692418   \n",
       "\n",
       "   start_station_longitude  end_station_id             end_station_name  \\\n",
       "0               -74.015756              79     Franklin St & W Broadway   \n",
       "1               -73.953457            3572               34 Ave & 38 St   \n",
       "2               -73.994618             388             W 26 St & 10 Ave   \n",
       "3               -73.989186             336  Sullivan St & Washington Sq   \n",
       "4               -73.989495            3308         Kane St & Clinton St   \n",
       "\n",
       "   end_station_latitude  end_station_longitude  bike_id    usertype  \\\n",
       "0             40.719116             -74.006667    21105  Subscriber   \n",
       "1             40.756913             -73.921631    32219  Subscriber   \n",
       "2             40.749718             -74.002950    33433  Subscriber   \n",
       "3             40.730477             -73.999061    32028  Subscriber   \n",
       "4             40.686176             -73.996453    26425  Subscriber   \n",
       "\n",
       "   birth_year gender  day_since_register  \n",
       "0        1945   male                  36  \n",
       "1        1998   male                  29  \n",
       "2        1954   male                  55  \n",
       "3        1963   male                  32  \n",
       "4        1965   male                  34  "
      ]
     },
     "execution_count": 5,
     "metadata": {},
     "output_type": "execute_result"
    }
   ],
   "source": [
    "df=pd.read_csv(\"nyc_citibike.csv\",encoding='euc-kr') # 한글이 들어간 csv는 encoding 인자를 넣어주는 것이 좋음\n",
    "df.head()"
   ]
  },
  {
   "cell_type": "code",
   "execution_count": 6,
   "metadata": {},
   "outputs": [],
   "source": [
    "df['start_station_id']=df['start_station_id'].astype(str)\n",
    "df['end_station_id']=df['end_station_id'].astype(str)\n",
    "df['bike_id']=df['bike_id'].astype(str)"
   ]
  },
  {
   "cell_type": "code",
   "execution_count": 7,
   "metadata": {},
   "outputs": [],
   "source": [
    "# 분석 결과의 이해를 돕기위해 데이터 단위를 바꿔줄 수도 있다.\n",
    "# 현재 예시 df에서 trip_duration은 second 단위여서 직관적으로 와닿지 않는다.\n",
    "# trip_duration_min으로 바꿔준다.\n",
    "df['trip_duration_min']=df['trip_duration']/60"
   ]
  },
  {
   "cell_type": "code",
   "execution_count": 8,
   "metadata": {},
   "outputs": [],
   "source": [
    "cut_point = df[\"trip_duration_min\"].quantile(0.99)\n",
    "df_cut=df[df['trip_duration_min'] < cut_point]"
   ]
  },
  {
   "cell_type": "markdown",
   "metadata": {},
   "source": [
    "## &#128205; 좌표 기반 Folium 활용 시각화"
   ]
  },
  {
   "cell_type": "code",
   "execution_count": 9,
   "metadata": {},
   "outputs": [
    {
     "name": "stdout",
     "output_type": "stream",
     "text": [
      "Requirement already satisfied: folium in c:\\programdata\\anaconda3\\lib\\site-packages (0.10.0)\n",
      "Requirement already satisfied: requests in c:\\programdata\\anaconda3\\lib\\site-packages (from folium) (2.21.0)\n",
      "Requirement already satisfied: jinja2>=2.9 in c:\\programdata\\anaconda3\\lib\\site-packages (from folium) (2.10)\n",
      "Requirement already satisfied: branca>=0.3.0 in c:\\programdata\\anaconda3\\lib\\site-packages (from folium) (0.3.1)\n",
      "Requirement already satisfied: numpy in c:\\programdata\\anaconda3\\lib\\site-packages (from folium) (1.16.2)\n",
      "Requirement already satisfied: chardet<3.1.0,>=3.0.2 in c:\\programdata\\anaconda3\\lib\\site-packages (from requests->folium) (3.0.4)\n",
      "Requirement already satisfied: certifi>=2017.4.17 in c:\\programdata\\anaconda3\\lib\\site-packages (from requests->folium) (2019.3.9)\n",
      "Requirement already satisfied: idna<2.9,>=2.5 in c:\\programdata\\anaconda3\\lib\\site-packages (from requests->folium) (2.8)\n",
      "Requirement already satisfied: urllib3<1.25,>=1.21.1 in c:\\programdata\\anaconda3\\lib\\site-packages (from requests->folium) (1.24.1)\n",
      "Requirement already satisfied: MarkupSafe>=0.23 in c:\\programdata\\anaconda3\\lib\\site-packages (from jinja2>=2.9->folium) (1.1.1)\n",
      "Requirement already satisfied: six in c:\\programdata\\anaconda3\\lib\\site-packages (from branca>=0.3.0->folium) (1.12.0)\n"
     ]
    }
   ],
   "source": [
    "!{sys.executable} -m pip install folium\n",
    "import folium"
   ]
  },
  {
   "cell_type": "markdown",
   "metadata": {},
   "source": [
    "### 1. 빈 캔버스 역할을 하는 지도를 그린다"
   ]
  },
  {
   "cell_type": "code",
   "execution_count": 10,
   "metadata": {},
   "outputs": [],
   "source": [
    "def generateBaseMap(default_location=[40.746176, -73.996453], \n",
    "                    default_zoom_start=11):\n",
    "    base_map = folium.Map(location=default_location, control_scale=True, zoom_start=default_zoom_start)\n",
    "    return base_map"
   ]
  },
  {
   "cell_type": "code",
   "execution_count": 11,
   "metadata": {},
   "outputs": [
    {
     "data": {
      "text/html": [
       "<div style=\"width:100%;\"><div style=\"position:relative;width:100%;height:0;padding-bottom:60%;\"><iframe src=\"data:text/html;charset=utf-8;base64,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\" style=\"position:absolute;width:100%;height:100%;left:0;top:0;border:none !important;\" allowfullscreen webkitallowfullscreen mozallowfullscreen></iframe></div></div>"
      ],
      "text/plain": [
       "<folium.folium.Map at 0x22e7e0ccdd8>"
      ]
     },
     "execution_count": 11,
     "metadata": {},
     "output_type": "execute_result"
    }
   ],
   "source": [
    "base_map=generateBaseMap()\n",
    "base_map"
   ]
  },
  {
   "cell_type": "markdown",
   "metadata": {},
   "source": [
    "### 2. 데이터프레임의 위도, 경도를 넣어줘 빈 캠버스에 히트맵을 칠한다"
   ]
  },
  {
   "cell_type": "markdown",
   "metadata": {},
   "source": [
    "기반 데이터는 현재 df_cut 입니다"
   ]
  },
  {
   "cell_type": "code",
   "execution_count": 12,
   "metadata": {},
   "outputs": [
    {
     "data": {
      "text/plain": [
       "<folium.plugins.heat_map.HeatMap at 0x22e7e0fb710>"
      ]
     },
     "execution_count": 12,
     "metadata": {},
     "output_type": "execute_result"
    }
   ],
   "source": [
    "from folium.plugins import HeatMap\n",
    "HeatMap(data=df_cut[['start_station_latitude', 'start_station_longitude']].groupby(['start_station_latitude', 'start_station_longitude']).sum().reset_index().values.tolist(), \n",
    "        radius=8, max_zoom=11).add_to(base_map)"
   ]
  },
  {
   "cell_type": "code",
   "execution_count": 13,
   "metadata": {},
   "outputs": [
    {
     "data": {
      "text/html": [
       "<div style=\"width:100%;\"><div style=\"position:relative;width:100%;height:0;padding-bottom:60%;\"><iframe src=\"data:text/html;charset=utf-8;base64,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\" style=\"position:absolute;width:100%;height:100%;left:0;top:0;border:none !important;\" allowfullscreen webkitallowfullscreen mozallowfullscreen></iframe></div></div>"
      ],
      "text/plain": [
       "<folium.folium.Map at 0x22e7e0ccdd8>"
      ]
     },
     "execution_count": 13,
     "metadata": {},
     "output_type": "execute_result"
    }
   ],
   "source": [
    "base_map"
   ]
  },
  {
   "cell_type": "markdown",
   "metadata": {},
   "source": [
    "### 3. 각 Unique한 Station에 대한 좌표를 찍는다"
   ]
  },
  {
   "cell_type": "code",
   "execution_count": 14,
   "metadata": {},
   "outputs": [
    {
     "data": {
      "text/plain": [
       "['Pershing Square North',\n",
       " 'West St & Chambers St',\n",
       " 'Broadway & E 22 St',\n",
       " 'W 21 St & 6 Ave',\n",
       " '8 Ave & W 33 St',\n",
       " 'E 17 St & Broadway',\n",
       " 'E 47 St & Park Ave',\n",
       " 'W 41 St & 8 Ave',\n",
       " 'W 22 St & 10 Ave',\n",
       " 'W 38 St & 8 Ave']"
      ]
     },
     "execution_count": 14,
     "metadata": {},
     "output_type": "execute_result"
    }
   ],
   "source": [
    "# 가장 대여 기록이 많은 시작 Station 10개\n",
    "top_list=df_cut['start_station_name'].value_counts().nlargest(10).index.to_list()\n",
    "top_list"
   ]
  },
  {
   "cell_type": "code",
   "execution_count": 15,
   "metadata": {},
   "outputs": [
    {
     "data": {
      "text/html": [
       "<div>\n",
       "<style scoped>\n",
       "    .dataframe tbody tr th:only-of-type {\n",
       "        vertical-align: middle;\n",
       "    }\n",
       "\n",
       "    .dataframe tbody tr th {\n",
       "        vertical-align: top;\n",
       "    }\n",
       "\n",
       "    .dataframe thead th {\n",
       "        text-align: right;\n",
       "    }\n",
       "</style>\n",
       "<table border=\"1\" class=\"dataframe\">\n",
       "  <thead>\n",
       "    <tr style=\"text-align: right;\">\n",
       "      <th></th>\n",
       "      <th>start_station_name</th>\n",
       "      <th>start_station_latitude</th>\n",
       "      <th>start_station_longitude</th>\n",
       "    </tr>\n",
       "  </thead>\n",
       "  <tbody>\n",
       "    <tr>\n",
       "      <th>0</th>\n",
       "      <td>South End Ave &amp; Liberty St</td>\n",
       "      <td>40.711512</td>\n",
       "      <td>-74.015756</td>\n",
       "    </tr>\n",
       "    <tr>\n",
       "      <th>1</th>\n",
       "      <td>Vernon Blvd &amp; 47 Rd</td>\n",
       "      <td>40.744907</td>\n",
       "      <td>-73.953457</td>\n",
       "    </tr>\n",
       "    <tr>\n",
       "      <th>2</th>\n",
       "      <td>W 43 St &amp; 10 Ave</td>\n",
       "      <td>40.760094</td>\n",
       "      <td>-73.994618</td>\n",
       "    </tr>\n",
       "    <tr>\n",
       "      <th>3</th>\n",
       "      <td>Broadway &amp; W 25 St</td>\n",
       "      <td>40.742869</td>\n",
       "      <td>-73.989186</td>\n",
       "    </tr>\n",
       "    <tr>\n",
       "      <th>4</th>\n",
       "      <td>Fulton St &amp; Adams St</td>\n",
       "      <td>40.692418</td>\n",
       "      <td>-73.989495</td>\n",
       "    </tr>\n",
       "  </tbody>\n",
       "</table>\n",
       "</div>"
      ],
      "text/plain": [
       "           start_station_name  start_station_latitude  start_station_longitude\n",
       "0  South End Ave & Liberty St               40.711512               -74.015756\n",
       "1         Vernon Blvd & 47 Rd               40.744907               -73.953457\n",
       "2            W 43 St & 10 Ave               40.760094               -73.994618\n",
       "3          Broadway & W 25 St               40.742869               -73.989186\n",
       "4        Fulton St & Adams St               40.692418               -73.989495"
      ]
     },
     "execution_count": 15,
     "metadata": {},
     "output_type": "execute_result"
    }
   ],
   "source": [
    "# Station별 위도 경도 Unique값만 추리기\n",
    "station_unique=df_cut[['start_station_name','start_station_latitude', 'start_station_longitude']].drop_duplicates()\n",
    "station_unique.head()"
   ]
  },
  {
   "cell_type": "code",
   "execution_count": 16,
   "metadata": {},
   "outputs": [],
   "source": [
    "station_unique_10=station_unique[station_unique['start_station_name'].isin(top_list)]"
   ]
  },
  {
   "cell_type": "code",
   "execution_count": 17,
   "metadata": {},
   "outputs": [
    {
     "data": {
      "text/html": [
       "<div>\n",
       "<style scoped>\n",
       "    .dataframe tbody tr th:only-of-type {\n",
       "        vertical-align: middle;\n",
       "    }\n",
       "\n",
       "    .dataframe tbody tr th {\n",
       "        vertical-align: top;\n",
       "    }\n",
       "\n",
       "    .dataframe thead th {\n",
       "        text-align: right;\n",
       "    }\n",
       "</style>\n",
       "<table border=\"1\" class=\"dataframe\">\n",
       "  <thead>\n",
       "    <tr style=\"text-align: right;\">\n",
       "      <th></th>\n",
       "      <th>start_station_name</th>\n",
       "      <th>start_station_latitude</th>\n",
       "      <th>start_station_longitude</th>\n",
       "    </tr>\n",
       "  </thead>\n",
       "  <tbody>\n",
       "    <tr>\n",
       "      <th>6</th>\n",
       "      <td>8 Ave &amp; W 33 St</td>\n",
       "      <td>40.751551</td>\n",
       "      <td>-73.993934</td>\n",
       "    </tr>\n",
       "    <tr>\n",
       "      <th>33</th>\n",
       "      <td>W 38 St &amp; 8 Ave</td>\n",
       "      <td>40.754666</td>\n",
       "      <td>-73.991382</td>\n",
       "    </tr>\n",
       "    <tr>\n",
       "      <th>50</th>\n",
       "      <td>Pershing Square North</td>\n",
       "      <td>40.751873</td>\n",
       "      <td>-73.977706</td>\n",
       "    </tr>\n",
       "    <tr>\n",
       "      <th>114</th>\n",
       "      <td>W 41 St &amp; 8 Ave</td>\n",
       "      <td>40.756405</td>\n",
       "      <td>-73.990026</td>\n",
       "    </tr>\n",
       "    <tr>\n",
       "      <th>116</th>\n",
       "      <td>Broadway &amp; E 22 St</td>\n",
       "      <td>40.740343</td>\n",
       "      <td>-73.989551</td>\n",
       "    </tr>\n",
       "    <tr>\n",
       "      <th>139</th>\n",
       "      <td>W 21 St &amp; 6 Ave</td>\n",
       "      <td>40.741740</td>\n",
       "      <td>-73.994156</td>\n",
       "    </tr>\n",
       "    <tr>\n",
       "      <th>257</th>\n",
       "      <td>W 22 St &amp; 10 Ave</td>\n",
       "      <td>40.746920</td>\n",
       "      <td>-74.004519</td>\n",
       "    </tr>\n",
       "    <tr>\n",
       "      <th>303</th>\n",
       "      <td>West St &amp; Chambers St</td>\n",
       "      <td>40.717548</td>\n",
       "      <td>-74.013221</td>\n",
       "    </tr>\n",
       "    <tr>\n",
       "      <th>363</th>\n",
       "      <td>E 47 St &amp; Park Ave</td>\n",
       "      <td>40.755103</td>\n",
       "      <td>-73.974987</td>\n",
       "    </tr>\n",
       "    <tr>\n",
       "      <th>390</th>\n",
       "      <td>E 17 St &amp; Broadway</td>\n",
       "      <td>40.737050</td>\n",
       "      <td>-73.990093</td>\n",
       "    </tr>\n",
       "  </tbody>\n",
       "</table>\n",
       "</div>"
      ],
      "text/plain": [
       "        start_station_name  start_station_latitude  start_station_longitude\n",
       "6          8 Ave & W 33 St               40.751551               -73.993934\n",
       "33         W 38 St & 8 Ave               40.754666               -73.991382\n",
       "50   Pershing Square North               40.751873               -73.977706\n",
       "114        W 41 St & 8 Ave               40.756405               -73.990026\n",
       "116     Broadway & E 22 St               40.740343               -73.989551\n",
       "139        W 21 St & 6 Ave               40.741740               -73.994156\n",
       "257       W 22 St & 10 Ave               40.746920               -74.004519\n",
       "303  West St & Chambers St               40.717548               -74.013221\n",
       "363     E 47 St & Park Ave               40.755103               -73.974987\n",
       "390     E 17 St & Broadway               40.737050               -73.990093"
      ]
     },
     "execution_count": 17,
     "metadata": {},
     "output_type": "execute_result"
    }
   ],
   "source": [
    "station_unique_10"
   ]
  },
  {
   "cell_type": "code",
   "execution_count": 18,
   "metadata": {},
   "outputs": [],
   "source": [
    "data=station_unique_10\n",
    "data=data.rename(columns={'start_station_longitude':'lon',\n",
    "                     'start_station_latitude':'lat',\n",
    "                     'start_station_name':'name'})\n",
    "\n",
    "for i in range(0,len(data)): \n",
    "    folium.Marker([data.iloc[i]['lat'], data.iloc[i]['lon']],\n",
    "                  popup=data.iloc[i]['name']).add_to(base_map)"
   ]
  },
  {
   "cell_type": "code",
   "execution_count": 19,
   "metadata": {
    "scrolled": true
   },
   "outputs": [
    {
     "data": {
      "text/html": [
       "<div style=\"width:100%;\"><div style=\"position:relative;width:100%;height:0;padding-bottom:60%;\"><iframe src=\"data:text/html;charset=utf-8;base64,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\" style=\"position:absolute;width:100%;height:100%;left:0;top:0;border:none !important;\" allowfullscreen webkitallowfullscreen mozallowfullscreen></iframe></div></div>"
      ],
      "text/plain": [
       "<folium.folium.Map at 0x22e7e0ccdd8>"
      ]
     },
     "execution_count": 19,
     "metadata": {},
     "output_type": "execute_result"
    }
   ],
   "source": [
    "base_map"
   ]
  },
  {
   "cell_type": "markdown",
   "metadata": {},
   "source": [
    "### 4. 개인 로컬에 html로 저장"
   ]
  },
  {
   "cell_type": "code",
   "execution_count": 20,
   "metadata": {},
   "outputs": [],
   "source": [
    "base_map.save('map_nyc_citibike.html')"
   ]
  },
  {
   "cell_type": "markdown",
   "metadata": {},
   "source": [
    "로컬에서 map_nyc_citibike.html을 검색하고 열어보세요!"
   ]
  }
 ],
 "metadata": {
  "kernelspec": {
   "display_name": "Python 3",
   "language": "python",
   "name": "python3"
  },
  "language_info": {
   "codemirror_mode": {
    "name": "ipython",
    "version": 3
   },
   "file_extension": ".py",
   "mimetype": "text/x-python",
   "name": "python",
   "nbconvert_exporter": "python",
   "pygments_lexer": "ipython3",
   "version": "3.7.3"
  }
 },
 "nbformat": 4,
 "nbformat_minor": 2
}
