{
 "cells": [
  {
   "cell_type": "markdown",
   "metadata": {
    "colab_type": "text",
    "id": "QTusWj12cIld"
   },
   "source": [
    "## &#128205; Basic Setups"
   ]
  },
  {
   "cell_type": "code",
   "execution_count": null,
   "metadata": {
    "colab": {
     "base_uri": "https://localhost:8080/",
     "height": 470
    },
    "colab_type": "code",
    "id": "p0NLNgaCcIli",
    "outputId": "ea62f1a8-e122-48b5-bd58-7d90b90eda2f"
   },
   "outputs": [],
   "source": [
    "# Install pip packages in the current Jupyter kernel\n",
    "# https://jakevdp.github.io/blog/2017/12/05/installing-python-packages-from-jupyter/ \n",
    "import sys\n",
    "!{sys.executable} -m pip install numpy\n",
    "!{sys.executable} -m pip install pandas\n",
    "!{sys.executable} -m pip install matplotlib==3.0.3\n",
    "!{sys.executable} -m pip install seaborn"
   ]
  },
  {
   "cell_type": "code",
   "execution_count": 1,
   "metadata": {
    "colab": {},
    "colab_type": "code",
    "id": "NywefiWUcIlu"
   },
   "outputs": [],
   "source": [
    "import numpy as np\n",
    "import pandas as pd\n",
    "import matplotlib.pyplot as plt \n",
    "import seaborn as sns \n",
    " \n",
    "# 커널을 구성하다보면 에러는 아니지만, 빨간색 네모 박스 warning이 뜨는 경우가 많다. \n",
    "# 그런 보기 싫은 부분들을 제거해주겠다.\n",
    "import warnings\n",
    "warnings.filterwarnings('ignore')\n",
    "\n",
    "# notebook을 실행한 브라우저에서 바로 그림을 볼 수 있게 해주는 것\n",
    "%matplotlib inline "
   ]
  },
  {
   "cell_type": "code",
   "execution_count": null,
   "metadata": {},
   "outputs": [],
   "source": [
    "# os 패키지를 통해 현재 디렉토리 위치를 변경하고, read_csv를 더 편리하게 할 수 있음\n",
    "import os\n",
    "os.getcwd() # 현재 디렉토리 파악\n",
    "# os.chdir(r\"__\") # 불러오고 싶은 파일이 위치한 주소를 ___에 입력"
   ]
  },
  {
   "cell_type": "markdown",
   "metadata": {
    "colab_type": "text",
    "id": "JMRdjxCCcIl_"
   },
   "source": [
    "**쥬피터 노트북에서 시각화할때, matplotlib가 한글 폰트 지원하지 않아, 깨짐 처리해줘야 함**"
   ]
  },
  {
   "cell_type": "code",
   "execution_count": 3,
   "metadata": {
    "colab": {},
    "colab_type": "code",
    "id": "D68OObyScImB"
   },
   "outputs": [
    {
     "name": "stdout",
     "output_type": "stream",
     "text": [
      "changed\n"
     ]
    }
   ],
   "source": [
    "# 다른 노트북 작성할 때도 이 셀만 떼서 사용 가능하다.\n",
    "import matplotlib.pyplot as plt \n",
    "import platform                \n",
    "\n",
    "# 웬만하면 해주는 것이 좋다.\n",
    "from matplotlib import font_manager, rc\n",
    "plt.rcParams['axes.unicode_minus']= False\n",
    "\n",
    "if platform.system() == 'Darwin': #맥os 사용자의 경우에\n",
    "    plt.style.use('seaborn-darkgrid') \n",
    "    rc('font', family = 'AppleGothic')\n",
    "    print('changed')\n",
    "    \n",
    "elif platform.system() == 'Windows':#윈도우 사용자의 경우에\n",
    "    path = 'c:/Windows/Fonts/malgun.ttf'\n",
    "    font_name = font_manager.FontProperties(fname=path).get_name()\n",
    "    plt.style.use('seaborn-darkgrid') # https://python-graph-gallery.com/199-matplotlib-style-sheets/\n",
    "    rc('font', family=font_name)\n",
    "    print('changed')"
   ]
  },
  {
   "cell_type": "markdown",
   "metadata": {
    "colab_type": "text",
    "id": "X4HURA0BcImF"
   },
   "source": [
    "## &#128205; 1. 데이터프레임 확인"
   ]
  },
  {
   "cell_type": "code",
   "execution_count": 4,
   "metadata": {
    "colab": {
     "base_uri": "https://localhost:8080/",
     "height": 301
    },
    "colab_type": "code",
    "id": "a78IH6yVcImH",
    "outputId": "31efd8dd-1cf4-4453-c6cd-4f626201e4da"
   },
   "outputs": [
    {
     "data": {
      "text/html": [
       "<div>\n",
       "<style scoped>\n",
       "    .dataframe tbody tr th:only-of-type {\n",
       "        vertical-align: middle;\n",
       "    }\n",
       "\n",
       "    .dataframe tbody tr th {\n",
       "        vertical-align: top;\n",
       "    }\n",
       "\n",
       "    .dataframe thead th {\n",
       "        text-align: right;\n",
       "    }\n",
       "</style>\n",
       "<table border=\"1\" class=\"dataframe\">\n",
       "  <thead>\n",
       "    <tr style=\"text-align: right;\">\n",
       "      <th></th>\n",
       "      <th>start_date</th>\n",
       "      <th>end_date</th>\n",
       "      <th>start_hour</th>\n",
       "      <th>end_hour</th>\n",
       "      <th>trip_duration</th>\n",
       "      <th>start_station_id</th>\n",
       "      <th>start_station_name</th>\n",
       "      <th>start_station_latitude</th>\n",
       "      <th>start_station_longitude</th>\n",
       "      <th>end_station_id</th>\n",
       "      <th>end_station_name</th>\n",
       "      <th>end_station_latitude</th>\n",
       "      <th>end_station_longitude</th>\n",
       "      <th>bike_id</th>\n",
       "      <th>usertype</th>\n",
       "      <th>birth_year</th>\n",
       "      <th>gender</th>\n",
       "      <th>day_since_register</th>\n",
       "    </tr>\n",
       "  </thead>\n",
       "  <tbody>\n",
       "    <tr>\n",
       "      <td>0</td>\n",
       "      <td>2018-05-01</td>\n",
       "      <td>2018-05-01</td>\n",
       "      <td>4</td>\n",
       "      <td>4</td>\n",
       "      <td>390</td>\n",
       "      <td>3002</td>\n",
       "      <td>South End Ave &amp; Liberty St</td>\n",
       "      <td>40.711512</td>\n",
       "      <td>-74.015756</td>\n",
       "      <td>79</td>\n",
       "      <td>Franklin St &amp; W Broadway</td>\n",
       "      <td>40.719116</td>\n",
       "      <td>-74.006667</td>\n",
       "      <td>21105</td>\n",
       "      <td>Subscriber</td>\n",
       "      <td>1945</td>\n",
       "      <td>male</td>\n",
       "      <td>36</td>\n",
       "    </tr>\n",
       "    <tr>\n",
       "      <td>1</td>\n",
       "      <td>2018-05-01</td>\n",
       "      <td>2018-05-01</td>\n",
       "      <td>1</td>\n",
       "      <td>1</td>\n",
       "      <td>854</td>\n",
       "      <td>3611</td>\n",
       "      <td>Vernon Blvd &amp; 47 Rd</td>\n",
       "      <td>40.744907</td>\n",
       "      <td>-73.953457</td>\n",
       "      <td>3572</td>\n",
       "      <td>34 Ave &amp; 38 St</td>\n",
       "      <td>40.756913</td>\n",
       "      <td>-73.921631</td>\n",
       "      <td>32219</td>\n",
       "      <td>Subscriber</td>\n",
       "      <td>1998</td>\n",
       "      <td>male</td>\n",
       "      <td>29</td>\n",
       "    </tr>\n",
       "    <tr>\n",
       "      <td>2</td>\n",
       "      <td>2018-05-01</td>\n",
       "      <td>2018-05-01</td>\n",
       "      <td>4</td>\n",
       "      <td>4</td>\n",
       "      <td>526</td>\n",
       "      <td>515</td>\n",
       "      <td>W 43 St &amp; 10 Ave</td>\n",
       "      <td>40.760094</td>\n",
       "      <td>-73.994618</td>\n",
       "      <td>388</td>\n",
       "      <td>W 26 St &amp; 10 Ave</td>\n",
       "      <td>40.749718</td>\n",
       "      <td>-74.002950</td>\n",
       "      <td>33433</td>\n",
       "      <td>Subscriber</td>\n",
       "      <td>1954</td>\n",
       "      <td>male</td>\n",
       "      <td>55</td>\n",
       "    </tr>\n",
       "    <tr>\n",
       "      <td>3</td>\n",
       "      <td>2018-05-01</td>\n",
       "      <td>2018-05-01</td>\n",
       "      <td>3</td>\n",
       "      <td>3</td>\n",
       "      <td>885</td>\n",
       "      <td>3641</td>\n",
       "      <td>Broadway &amp; W 25 St</td>\n",
       "      <td>40.742869</td>\n",
       "      <td>-73.989186</td>\n",
       "      <td>336</td>\n",
       "      <td>Sullivan St &amp; Washington Sq</td>\n",
       "      <td>40.730477</td>\n",
       "      <td>-73.999061</td>\n",
       "      <td>32028</td>\n",
       "      <td>Subscriber</td>\n",
       "      <td>1963</td>\n",
       "      <td>male</td>\n",
       "      <td>32</td>\n",
       "    </tr>\n",
       "    <tr>\n",
       "      <td>4</td>\n",
       "      <td>2018-05-01</td>\n",
       "      <td>2018-05-01</td>\n",
       "      <td>1</td>\n",
       "      <td>1</td>\n",
       "      <td>324</td>\n",
       "      <td>3440</td>\n",
       "      <td>Fulton St &amp; Adams St</td>\n",
       "      <td>40.692418</td>\n",
       "      <td>-73.989495</td>\n",
       "      <td>3308</td>\n",
       "      <td>Kane St &amp; Clinton St</td>\n",
       "      <td>40.686176</td>\n",
       "      <td>-73.996453</td>\n",
       "      <td>26425</td>\n",
       "      <td>Subscriber</td>\n",
       "      <td>1965</td>\n",
       "      <td>male</td>\n",
       "      <td>34</td>\n",
       "    </tr>\n",
       "  </tbody>\n",
       "</table>\n",
       "</div>"
      ],
      "text/plain": [
       "   start_date    end_date  start_hour  end_hour  trip_duration  \\\n",
       "0  2018-05-01  2018-05-01           4         4            390   \n",
       "1  2018-05-01  2018-05-01           1         1            854   \n",
       "2  2018-05-01  2018-05-01           4         4            526   \n",
       "3  2018-05-01  2018-05-01           3         3            885   \n",
       "4  2018-05-01  2018-05-01           1         1            324   \n",
       "\n",
       "   start_station_id          start_station_name  start_station_latitude  \\\n",
       "0              3002  South End Ave & Liberty St               40.711512   \n",
       "1              3611         Vernon Blvd & 47 Rd               40.744907   \n",
       "2               515            W 43 St & 10 Ave               40.760094   \n",
       "3              3641          Broadway & W 25 St               40.742869   \n",
       "4              3440        Fulton St & Adams St               40.692418   \n",
       "\n",
       "   start_station_longitude  end_station_id             end_station_name  \\\n",
       "0               -74.015756              79     Franklin St & W Broadway   \n",
       "1               -73.953457            3572               34 Ave & 38 St   \n",
       "2               -73.994618             388             W 26 St & 10 Ave   \n",
       "3               -73.989186             336  Sullivan St & Washington Sq   \n",
       "4               -73.989495            3308         Kane St & Clinton St   \n",
       "\n",
       "   end_station_latitude  end_station_longitude  bike_id    usertype  \\\n",
       "0             40.719116             -74.006667    21105  Subscriber   \n",
       "1             40.756913             -73.921631    32219  Subscriber   \n",
       "2             40.749718             -74.002950    33433  Subscriber   \n",
       "3             40.730477             -73.999061    32028  Subscriber   \n",
       "4             40.686176             -73.996453    26425  Subscriber   \n",
       "\n",
       "   birth_year gender  day_since_register  \n",
       "0        1945   male                  36  \n",
       "1        1998   male                  29  \n",
       "2        1954   male                  55  \n",
       "3        1963   male                  32  \n",
       "4        1965   male                  34  "
      ]
     },
     "execution_count": 4,
     "metadata": {},
     "output_type": "execute_result"
    }
   ],
   "source": [
    "df=pd.read_csv(\"nyc_citibike.csv\",encoding='euc-kr') # 한글이 들어간 csv는 encoding 인자를 넣어주는 것이 좋음\n",
    "df.head()"
   ]
  },
  {
   "cell_type": "code",
   "execution_count": 5,
   "metadata": {
    "colab": {
     "base_uri": "https://localhost:8080/",
     "height": 33
    },
    "colab_type": "code",
    "id": "TKoM2cQmcImK",
    "outputId": "f0cdece1-dd5c-433c-d72b-6ac1e5e14517"
   },
   "outputs": [
    {
     "data": {
      "text/plain": [
       "(72035, 18)"
      ]
     },
     "execution_count": 5,
     "metadata": {},
     "output_type": "execute_result"
    }
   ],
   "source": [
    "# 데이터 shape 파악\n",
    "df.shape"
   ]
  },
  {
   "cell_type": "code",
   "execution_count": 6,
   "metadata": {
    "colab": {
     "base_uri": "https://localhost:8080/",
     "height": 307
    },
    "colab_type": "code",
    "id": "7GpxVzJbcImO",
    "outputId": "31faf957-7905-4495-953c-792aa80206d4"
   },
   "outputs": [
    {
     "data": {
      "text/html": [
       "<div>\n",
       "<style scoped>\n",
       "    .dataframe tbody tr th:only-of-type {\n",
       "        vertical-align: middle;\n",
       "    }\n",
       "\n",
       "    .dataframe tbody tr th {\n",
       "        vertical-align: top;\n",
       "    }\n",
       "\n",
       "    .dataframe thead th {\n",
       "        text-align: right;\n",
       "    }\n",
       "</style>\n",
       "<table border=\"1\" class=\"dataframe\">\n",
       "  <thead>\n",
       "    <tr style=\"text-align: right;\">\n",
       "      <th></th>\n",
       "      <th>start_hour</th>\n",
       "      <th>end_hour</th>\n",
       "      <th>trip_duration</th>\n",
       "      <th>start_station_id</th>\n",
       "      <th>start_station_latitude</th>\n",
       "      <th>start_station_longitude</th>\n",
       "      <th>end_station_id</th>\n",
       "      <th>end_station_latitude</th>\n",
       "      <th>end_station_longitude</th>\n",
       "      <th>bike_id</th>\n",
       "      <th>birth_year</th>\n",
       "      <th>day_since_register</th>\n",
       "    </tr>\n",
       "  </thead>\n",
       "  <tbody>\n",
       "    <tr>\n",
       "      <td>count</td>\n",
       "      <td>72035.0</td>\n",
       "      <td>72035.0</td>\n",
       "      <td>72035.0</td>\n",
       "      <td>72035.0</td>\n",
       "      <td>72035.0</td>\n",
       "      <td>72035.0</td>\n",
       "      <td>72035.0</td>\n",
       "      <td>72035.0</td>\n",
       "      <td>72035.0</td>\n",
       "      <td>72035.0</td>\n",
       "      <td>72035.0</td>\n",
       "      <td>72035.0</td>\n",
       "    </tr>\n",
       "    <tr>\n",
       "      <td>mean</td>\n",
       "      <td>14.0</td>\n",
       "      <td>14.0</td>\n",
       "      <td>1047.0</td>\n",
       "      <td>1536.0</td>\n",
       "      <td>41.0</td>\n",
       "      <td>-74.0</td>\n",
       "      <td>1537.0</td>\n",
       "      <td>41.0</td>\n",
       "      <td>-74.0</td>\n",
       "      <td>26140.0</td>\n",
       "      <td>1978.0</td>\n",
       "      <td>30.0</td>\n",
       "    </tr>\n",
       "    <tr>\n",
       "      <td>std</td>\n",
       "      <td>5.0</td>\n",
       "      <td>5.0</td>\n",
       "      <td>8140.0</td>\n",
       "      <td>1418.0</td>\n",
       "      <td>0.0</td>\n",
       "      <td>0.0</td>\n",
       "      <td>1420.0</td>\n",
       "      <td>0.0</td>\n",
       "      <td>0.0</td>\n",
       "      <td>5794.0</td>\n",
       "      <td>12.0</td>\n",
       "      <td>17.0</td>\n",
       "    </tr>\n",
       "    <tr>\n",
       "      <td>min</td>\n",
       "      <td>0.0</td>\n",
       "      <td>0.0</td>\n",
       "      <td>61.0</td>\n",
       "      <td>72.0</td>\n",
       "      <td>41.0</td>\n",
       "      <td>-74.0</td>\n",
       "      <td>72.0</td>\n",
       "      <td>41.0</td>\n",
       "      <td>-74.0</td>\n",
       "      <td>14529.0</td>\n",
       "      <td>1885.0</td>\n",
       "      <td>1.0</td>\n",
       "    </tr>\n",
       "    <tr>\n",
       "      <td>25%</td>\n",
       "      <td>10.0</td>\n",
       "      <td>10.0</td>\n",
       "      <td>398.0</td>\n",
       "      <td>382.0</td>\n",
       "      <td>41.0</td>\n",
       "      <td>-74.0</td>\n",
       "      <td>382.0</td>\n",
       "      <td>41.0</td>\n",
       "      <td>-74.0</td>\n",
       "      <td>20533.0</td>\n",
       "      <td>1969.0</td>\n",
       "      <td>15.0</td>\n",
       "    </tr>\n",
       "    <tr>\n",
       "      <td>50%</td>\n",
       "      <td>15.0</td>\n",
       "      <td>15.0</td>\n",
       "      <td>681.0</td>\n",
       "      <td>504.0</td>\n",
       "      <td>41.0</td>\n",
       "      <td>-74.0</td>\n",
       "      <td>503.0</td>\n",
       "      <td>41.0</td>\n",
       "      <td>-74.0</td>\n",
       "      <td>27840.0</td>\n",
       "      <td>1980.0</td>\n",
       "      <td>30.0</td>\n",
       "    </tr>\n",
       "    <tr>\n",
       "      <td>75%</td>\n",
       "      <td>18.0</td>\n",
       "      <td>18.0</td>\n",
       "      <td>1201.0</td>\n",
       "      <td>3223.0</td>\n",
       "      <td>41.0</td>\n",
       "      <td>-74.0</td>\n",
       "      <td>3224.0</td>\n",
       "      <td>41.0</td>\n",
       "      <td>-74.0</td>\n",
       "      <td>30995.0</td>\n",
       "      <td>1988.0</td>\n",
       "      <td>46.0</td>\n",
       "    </tr>\n",
       "    <tr>\n",
       "      <td>max</td>\n",
       "      <td>23.0</td>\n",
       "      <td>23.0</td>\n",
       "      <td>1344462.0</td>\n",
       "      <td>3680.0</td>\n",
       "      <td>41.0</td>\n",
       "      <td>-74.0</td>\n",
       "      <td>3680.0</td>\n",
       "      <td>41.0</td>\n",
       "      <td>-74.0</td>\n",
       "      <td>33671.0</td>\n",
       "      <td>2002.0</td>\n",
       "      <td>60.0</td>\n",
       "    </tr>\n",
       "  </tbody>\n",
       "</table>\n",
       "</div>"
      ],
      "text/plain": [
       "       start_hour  end_hour  trip_duration  start_station_id  \\\n",
       "count     72035.0   72035.0        72035.0           72035.0   \n",
       "mean         14.0      14.0         1047.0            1536.0   \n",
       "std           5.0       5.0         8140.0            1418.0   \n",
       "min           0.0       0.0           61.0              72.0   \n",
       "25%          10.0      10.0          398.0             382.0   \n",
       "50%          15.0      15.0          681.0             504.0   \n",
       "75%          18.0      18.0         1201.0            3223.0   \n",
       "max          23.0      23.0      1344462.0            3680.0   \n",
       "\n",
       "       start_station_latitude  start_station_longitude  end_station_id  \\\n",
       "count                 72035.0                  72035.0         72035.0   \n",
       "mean                     41.0                    -74.0          1537.0   \n",
       "std                       0.0                      0.0          1420.0   \n",
       "min                      41.0                    -74.0            72.0   \n",
       "25%                      41.0                    -74.0           382.0   \n",
       "50%                      41.0                    -74.0           503.0   \n",
       "75%                      41.0                    -74.0          3224.0   \n",
       "max                      41.0                    -74.0          3680.0   \n",
       "\n",
       "       end_station_latitude  end_station_longitude  bike_id  birth_year  \\\n",
       "count               72035.0                72035.0  72035.0     72035.0   \n",
       "mean                   41.0                  -74.0  26140.0      1978.0   \n",
       "std                     0.0                    0.0   5794.0        12.0   \n",
       "min                    41.0                  -74.0  14529.0      1885.0   \n",
       "25%                    41.0                  -74.0  20533.0      1969.0   \n",
       "50%                    41.0                  -74.0  27840.0      1980.0   \n",
       "75%                    41.0                  -74.0  30995.0      1988.0   \n",
       "max                    41.0                  -74.0  33671.0      2002.0   \n",
       "\n",
       "       day_since_register  \n",
       "count             72035.0  \n",
       "mean                 30.0  \n",
       "std                  17.0  \n",
       "min                   1.0  \n",
       "25%                  15.0  \n",
       "50%                  30.0  \n",
       "75%                  46.0  \n",
       "max                  60.0  "
      ]
     },
     "execution_count": 6,
     "metadata": {},
     "output_type": "execute_result"
    }
   ],
   "source": [
    "# 데이터 통계량 파악\n",
    "df.describe().round()"
   ]
  },
  {
   "cell_type": "code",
   "execution_count": 7,
   "metadata": {
    "colab": {
     "base_uri": "https://localhost:8080/",
     "height": 587
    },
    "colab_type": "code",
    "id": "cmH0AE8KcImS",
    "outputId": "8c5946e4-54e1-4fa8-bff4-5bd1f9efc194"
   },
   "outputs": [
    {
     "data": {
      "text/html": [
       "<div>\n",
       "<style scoped>\n",
       "    .dataframe tbody tr th:only-of-type {\n",
       "        vertical-align: middle;\n",
       "    }\n",
       "\n",
       "    .dataframe tbody tr th {\n",
       "        vertical-align: top;\n",
       "    }\n",
       "\n",
       "    .dataframe thead th {\n",
       "        text-align: right;\n",
       "    }\n",
       "</style>\n",
       "<table border=\"1\" class=\"dataframe\">\n",
       "  <thead>\n",
       "    <tr style=\"text-align: right;\">\n",
       "      <th></th>\n",
       "      <th>nan_count</th>\n",
       "    </tr>\n",
       "  </thead>\n",
       "  <tbody>\n",
       "    <tr>\n",
       "      <td>start_date</td>\n",
       "      <td>0</td>\n",
       "    </tr>\n",
       "    <tr>\n",
       "      <td>end_date</td>\n",
       "      <td>0</td>\n",
       "    </tr>\n",
       "    <tr>\n",
       "      <td>start_hour</td>\n",
       "      <td>0</td>\n",
       "    </tr>\n",
       "    <tr>\n",
       "      <td>end_hour</td>\n",
       "      <td>0</td>\n",
       "    </tr>\n",
       "    <tr>\n",
       "      <td>trip_duration</td>\n",
       "      <td>0</td>\n",
       "    </tr>\n",
       "    <tr>\n",
       "      <td>start_station_id</td>\n",
       "      <td>0</td>\n",
       "    </tr>\n",
       "    <tr>\n",
       "      <td>start_station_name</td>\n",
       "      <td>0</td>\n",
       "    </tr>\n",
       "    <tr>\n",
       "      <td>start_station_latitude</td>\n",
       "      <td>0</td>\n",
       "    </tr>\n",
       "    <tr>\n",
       "      <td>start_station_longitude</td>\n",
       "      <td>0</td>\n",
       "    </tr>\n",
       "    <tr>\n",
       "      <td>end_station_id</td>\n",
       "      <td>0</td>\n",
       "    </tr>\n",
       "    <tr>\n",
       "      <td>end_station_name</td>\n",
       "      <td>0</td>\n",
       "    </tr>\n",
       "    <tr>\n",
       "      <td>end_station_latitude</td>\n",
       "      <td>0</td>\n",
       "    </tr>\n",
       "    <tr>\n",
       "      <td>end_station_longitude</td>\n",
       "      <td>0</td>\n",
       "    </tr>\n",
       "    <tr>\n",
       "      <td>bike_id</td>\n",
       "      <td>0</td>\n",
       "    </tr>\n",
       "    <tr>\n",
       "      <td>usertype</td>\n",
       "      <td>0</td>\n",
       "    </tr>\n",
       "    <tr>\n",
       "      <td>birth_year</td>\n",
       "      <td>0</td>\n",
       "    </tr>\n",
       "    <tr>\n",
       "      <td>gender</td>\n",
       "      <td>0</td>\n",
       "    </tr>\n",
       "    <tr>\n",
       "      <td>day_since_register</td>\n",
       "      <td>0</td>\n",
       "    </tr>\n",
       "  </tbody>\n",
       "</table>\n",
       "</div>"
      ],
      "text/plain": [
       "                         nan_count\n",
       "start_date                       0\n",
       "end_date                         0\n",
       "start_hour                       0\n",
       "end_hour                         0\n",
       "trip_duration                    0\n",
       "start_station_id                 0\n",
       "start_station_name               0\n",
       "start_station_latitude           0\n",
       "start_station_longitude          0\n",
       "end_station_id                   0\n",
       "end_station_name                 0\n",
       "end_station_latitude             0\n",
       "end_station_longitude            0\n",
       "bike_id                          0\n",
       "usertype                         0\n",
       "birth_year                       0\n",
       "gender                           0\n",
       "day_since_register               0"
      ]
     },
     "execution_count": 7,
     "metadata": {},
     "output_type": "execute_result"
    }
   ],
   "source": [
    "# 결측치 개수 파악\n",
    "# 셀 실행 결과를 데이터프레임으로 보고 싶을 때 to_frame()과 pd.DataFrame() 두 가지를 사용 가능\n",
    "df.isnull().sum().to_frame('nan_count') "
   ]
  },
  {
   "cell_type": "code",
   "execution_count": 8,
   "metadata": {
    "colab": {
     "base_uri": "https://localhost:8080/",
     "height": 587
    },
    "colab_type": "code",
    "id": "O3B_v9vzcImW",
    "outputId": "f141bb68-2339-408f-9b9d-d7170bf69b23"
   },
   "outputs": [
    {
     "data": {
      "text/html": [
       "<div>\n",
       "<style scoped>\n",
       "    .dataframe tbody tr th:only-of-type {\n",
       "        vertical-align: middle;\n",
       "    }\n",
       "\n",
       "    .dataframe tbody tr th {\n",
       "        vertical-align: top;\n",
       "    }\n",
       "\n",
       "    .dataframe thead th {\n",
       "        text-align: right;\n",
       "    }\n",
       "</style>\n",
       "<table border=\"1\" class=\"dataframe\">\n",
       "  <thead>\n",
       "    <tr style=\"text-align: right;\">\n",
       "      <th></th>\n",
       "      <th>nan_ratio</th>\n",
       "    </tr>\n",
       "  </thead>\n",
       "  <tbody>\n",
       "    <tr>\n",
       "      <td>start_date</td>\n",
       "      <td>0.0</td>\n",
       "    </tr>\n",
       "    <tr>\n",
       "      <td>end_date</td>\n",
       "      <td>0.0</td>\n",
       "    </tr>\n",
       "    <tr>\n",
       "      <td>start_hour</td>\n",
       "      <td>0.0</td>\n",
       "    </tr>\n",
       "    <tr>\n",
       "      <td>end_hour</td>\n",
       "      <td>0.0</td>\n",
       "    </tr>\n",
       "    <tr>\n",
       "      <td>trip_duration</td>\n",
       "      <td>0.0</td>\n",
       "    </tr>\n",
       "    <tr>\n",
       "      <td>start_station_id</td>\n",
       "      <td>0.0</td>\n",
       "    </tr>\n",
       "    <tr>\n",
       "      <td>start_station_name</td>\n",
       "      <td>0.0</td>\n",
       "    </tr>\n",
       "    <tr>\n",
       "      <td>start_station_latitude</td>\n",
       "      <td>0.0</td>\n",
       "    </tr>\n",
       "    <tr>\n",
       "      <td>start_station_longitude</td>\n",
       "      <td>0.0</td>\n",
       "    </tr>\n",
       "    <tr>\n",
       "      <td>end_station_id</td>\n",
       "      <td>0.0</td>\n",
       "    </tr>\n",
       "    <tr>\n",
       "      <td>end_station_name</td>\n",
       "      <td>0.0</td>\n",
       "    </tr>\n",
       "    <tr>\n",
       "      <td>end_station_latitude</td>\n",
       "      <td>0.0</td>\n",
       "    </tr>\n",
       "    <tr>\n",
       "      <td>end_station_longitude</td>\n",
       "      <td>0.0</td>\n",
       "    </tr>\n",
       "    <tr>\n",
       "      <td>bike_id</td>\n",
       "      <td>0.0</td>\n",
       "    </tr>\n",
       "    <tr>\n",
       "      <td>usertype</td>\n",
       "      <td>0.0</td>\n",
       "    </tr>\n",
       "    <tr>\n",
       "      <td>birth_year</td>\n",
       "      <td>0.0</td>\n",
       "    </tr>\n",
       "    <tr>\n",
       "      <td>gender</td>\n",
       "      <td>0.0</td>\n",
       "    </tr>\n",
       "    <tr>\n",
       "      <td>day_since_register</td>\n",
       "      <td>0.0</td>\n",
       "    </tr>\n",
       "  </tbody>\n",
       "</table>\n",
       "</div>"
      ],
      "text/plain": [
       "                         nan_ratio\n",
       "start_date                     0.0\n",
       "end_date                       0.0\n",
       "start_hour                     0.0\n",
       "end_hour                       0.0\n",
       "trip_duration                  0.0\n",
       "start_station_id               0.0\n",
       "start_station_name             0.0\n",
       "start_station_latitude         0.0\n",
       "start_station_longitude        0.0\n",
       "end_station_id                 0.0\n",
       "end_station_name               0.0\n",
       "end_station_latitude           0.0\n",
       "end_station_longitude          0.0\n",
       "bike_id                        0.0\n",
       "usertype                       0.0\n",
       "birth_year                     0.0\n",
       "gender                         0.0\n",
       "day_since_register             0.0"
      ]
     },
     "execution_count": 8,
     "metadata": {},
     "output_type": "execute_result"
    }
   ],
   "source": [
    "# 결측치 비율 파악\n",
    "pd.DataFrame(data=df.isnull().sum()/len(df),columns=['nan_ratio'])"
   ]
  },
  {
   "cell_type": "markdown",
   "metadata": {
    "colab_type": "text",
    "id": "VfabDz5CcIma"
   },
   "source": [
    "**결측치가 있다면 결측치에 대한 전처리를 거쳐줘야 한다.** 현 예시에서는 없으니, 패스!<br/> [결측치 제거 참고](https://eda-ai-lab.tistory.com/14)"
   ]
  },
  {
   "cell_type": "code",
   "execution_count": 9,
   "metadata": {
    "colab": {
     "base_uri": "https://localhost:8080/",
     "height": 333
    },
    "colab_type": "code",
    "id": "IvFeY5CjcImb",
    "outputId": "c0ee978d-0f7a-45e7-e51d-8e841ce9cfba"
   },
   "outputs": [
    {
     "data": {
      "text/plain": [
       "start_date                  object\n",
       "end_date                    object\n",
       "start_hour                   int64\n",
       "end_hour                     int64\n",
       "trip_duration                int64\n",
       "start_station_id             int64\n",
       "start_station_name          object\n",
       "start_station_latitude     float64\n",
       "start_station_longitude    float64\n",
       "end_station_id               int64\n",
       "end_station_name            object\n",
       "end_station_latitude       float64\n",
       "end_station_longitude      float64\n",
       "bike_id                      int64\n",
       "usertype                    object\n",
       "birth_year                   int64\n",
       "gender                      object\n",
       "day_since_register           int64\n",
       "dtype: object"
      ]
     },
     "execution_count": 9,
     "metadata": {},
     "output_type": "execute_result"
    }
   ],
   "source": [
    "# 변수 타입 파악\n",
    "df.dtypes "
   ]
  },
  {
   "cell_type": "markdown",
   "metadata": {
    "colab_type": "text",
    "id": "87D289d2cImf"
   },
   "source": [
    "#### 시각화에서 중요한 건 범주형변수, 연속형변수 두가지로 구분하고 시작하는 것\n",
    "> 범주형 변수 : 빈도(frequency) 계산 가능 <br/>\n",
    "> 연속형 변수 : 평균, 표준편차, 분산 등의 수학적 계산 가능\n",
    "\n",
    "\n",
    "- dtypes로 전체 변수 타입을 확인할때, 범주형이어도 연속형 변수 dtype일 수 있다 <br/>\n",
    "- 이 예시에서는 trip_duration, day_since_register 연속형 변수, 그 외는 다 범주형<br/>\n",
    "- 실제로 연속형이 아닌데, int64(연속형)인 변수들을 string으로 만들어준다"
   ]
  },
  {
   "cell_type": "code",
   "execution_count": 10,
   "metadata": {
    "colab": {},
    "colab_type": "code",
    "id": "zWw85GtfcImg"
   },
   "outputs": [],
   "source": [
    "df['start_station_id']=df['start_station_id'].astype(str)\n",
    "df['end_station_id']=df['end_station_id'].astype(str)\n",
    "df['bike_id']=df['bike_id'].astype(str)"
   ]
  },
  {
   "cell_type": "code",
   "execution_count": 11,
   "metadata": {
    "colab": {
     "base_uri": "https://localhost:8080/",
     "height": 333
    },
    "colab_type": "code",
    "id": "K5sbD0oxcImj",
    "outputId": "5b277f84-63d9-473f-e012-9ed79b2a99d2"
   },
   "outputs": [
    {
     "data": {
      "text/plain": [
       "start_date                  object\n",
       "end_date                    object\n",
       "start_hour                   int64\n",
       "end_hour                     int64\n",
       "trip_duration                int64\n",
       "start_station_id            object\n",
       "start_station_name          object\n",
       "start_station_latitude     float64\n",
       "start_station_longitude    float64\n",
       "end_station_id              object\n",
       "end_station_name            object\n",
       "end_station_latitude       float64\n",
       "end_station_longitude      float64\n",
       "bike_id                     object\n",
       "usertype                    object\n",
       "birth_year                   int64\n",
       "gender                      object\n",
       "day_since_register           int64\n",
       "dtype: object"
      ]
     },
     "execution_count": 11,
     "metadata": {},
     "output_type": "execute_result"
    }
   ],
   "source": [
    "df.dtypes"
   ]
  },
  {
   "cell_type": "markdown",
   "metadata": {
    "colab_type": "text",
    "id": "mj6d0E04cImn"
   },
   "source": [
    "## &#128205; 2. 데이터 도메인과 변수 이해\n",
    "먼저, 가지고 있는 데이터에 대해서 이해하기 위해서는 어떤 변수들이 있는지 그리고 각 변수들의 의미와 풀고자하는 문제 간의 연관성 등을 파악해야 한다.\n",
    "* 변수 이름\n",
    "* 변수 타입 \n",
    "* 변수들의 Segmentation\n",
    "  >nyc_citibike 예시에서는. 이렇게 Segmentation 해볼 수 있다.\n",
    "  >* 주행시간 변수 (start_date, end_date, start_hour, end_hour, trip_duration)\n",
    "  >* 주행위치 변수 (start_station_id,start_station_name, start_station_latitude, start_station_longitutde, end_station_id,end_station_name, end_station_latitude, end_station_longitude)\n",
    "  >* 대여바이크종류 변수 (bike_id)\n",
    "  >* 유저정보 변수 (usertype, birth_year, gender,day_since_register)\n",
    "\n",
    "* 단변수 분석에서, 변수들에 대해 알고 싶은 정보를 생각해낸다.\n",
    "    > * 평균적 trip_duration은 얼마일까?\n",
    "    > * 가장 기록(=대여 건 수)이 많은 start_hour는 언제일까?\n",
    "    > * 유저들 성별 분포는 어떨까?\n",
    "\n",
    "* 서로 영향을 줄 변수들에 대한 기대 가설을 세워본다.\n",
    "    >* 신규 가입자들이 한번 탈 때 더 짧게 쓰지 않을까?\n",
    "    >* gender에 따라 trip_duration이 다르지 않을까? 어떻게 다를까?\n",
    "    > * start_hour이 새벽 시간대일수록 trip_duration이 짧지 않을까?\n",
    "\n",
    "* 실제 EDA 후 기대한 가설과 결과를 보고 해석한다."
   ]
  },
  {
   "cell_type": "markdown",
   "metadata": {
    "colab_type": "text",
    "id": "PVODQaq1cImo"
   },
   "source": [
    "## &#128205; 3. QUEST Solutions\n",
    "정해진 답이 없어요, 다들 잘 해주셔서 감사합니다."
   ]
  },
  {
   "cell_type": "markdown",
   "metadata": {
    "colab_type": "text",
    "id": "GS1xYebjcImq"
   },
   "source": [
    "### 3.1 \n",
    "\n",
    "연령대(ex.10,20,30,40대) 변수와 함께 어떤 변수와의 관계를 보면 좋을지 기대 가설을 세우고, 적절한 방식으로 시각화 후 해석 보태 주세요.\n",
    "연령은 25세, 26세~ 아닌 20대의 BIN 형태 연령대 (범주형 변수)로 묶어주세요.\n",
    "\n",
    "[참고](https://nittaku.tistory.com/124)"
   ]
  },
  {
   "cell_type": "code",
   "execution_count": 12,
   "metadata": {
    "colab": {
     "base_uri": "https://localhost:8080/",
     "height": 33
    },
    "colab_type": "code",
    "id": "HKmQH7GxgyDj",
    "outputId": "b196ab7c-cd9e-4bfc-c901-7ea3f2ea3b1a"
   },
   "outputs": [
    {
     "data": {
      "text/plain": [
       "datetime.datetime(2019, 10, 12, 11, 46, 30, 645264)"
      ]
     },
     "execution_count": 12,
     "metadata": {},
     "output_type": "execute_result"
    }
   ],
   "source": [
    "# 현재 시간을 불러오는 패키지와 함수\n",
    "import datetime\n",
    "now = datetime.datetime.now()\n",
    "now"
   ]
  },
  {
   "cell_type": "code",
   "execution_count": 13,
   "metadata": {
    "colab": {
     "base_uri": "https://localhost:8080/",
     "height": 33
    },
    "colab_type": "code",
    "id": "hHLX3W14g-BO",
    "outputId": "807eba2b-22cd-43a2-dab0-0f9f4033288a"
   },
   "outputs": [
    {
     "data": {
      "text/plain": [
       "2019"
      ]
     },
     "execution_count": 13,
     "metadata": {},
     "output_type": "execute_result"
    }
   ],
   "source": [
    "# 연도 추출\n",
    "now.year"
   ]
  },
  {
   "cell_type": "code",
   "execution_count": 14,
   "metadata": {
    "colab": {},
    "colab_type": "code",
    "id": "7Yyp3Oa7hBeJ"
   },
   "outputs": [],
   "source": [
    "# 출생연도 이용하여 나이로 변환 (미국이니까 연도 기반 만 나이로 변환)\n",
    "df['age'] = now.year - df['birth_year']"
   ]
  },
  {
   "cell_type": "code",
   "execution_count": 15,
   "metadata": {
    "colab": {
     "base_uri": "https://localhost:8080/",
     "height": 167
    },
    "colab_type": "code",
    "id": "u1XYLUrRhC-6",
    "outputId": "4f990ffd-f950-4369-e9e4-6a39f144b11a"
   },
   "outputs": [
    {
     "data": {
      "text/plain": [
       "count    72035.000000\n",
       "mean        41.005053\n",
       "std         11.868175\n",
       "min         17.000000\n",
       "25%         31.000000\n",
       "50%         39.000000\n",
       "75%         50.000000\n",
       "max        134.000000\n",
       "Name: age, dtype: float64"
      ]
     },
     "execution_count": 15,
     "metadata": {},
     "output_type": "execute_result"
    }
   ],
   "source": [
    "df['age'].describe()"
   ]
  },
  {
   "cell_type": "code",
   "execution_count": 16,
   "metadata": {
    "colab": {},
    "colab_type": "code",
    "id": "ahAzC9PLcImr"
   },
   "outputs": [],
   "source": [
    "# 연령대 숫자 데이터를 카테고리화\n",
    "bins = [10, 20, 30, 40, 50, 60, 70, 80, 90]\n",
    "bin_names = [10, 20, 30, 40, 50, 60, 70, 80]\n",
    "\n",
    "age_bin_series = pd.cut(df['age'], bins, labels = bin_names)\n",
    "df['age_bin'] = age_bin_series"
   ]
  },
  {
   "cell_type": "code",
   "execution_count": 17,
   "metadata": {
    "colab": {
     "base_uri": "https://localhost:8080/",
     "height": 100
    },
    "colab_type": "code",
    "id": "84BWT9sKhkFB",
    "outputId": "f8794171-dea6-412e-e98c-407fc5b0c5bb"
   },
   "outputs": [
    {
     "data": {
      "text/plain": [
       "count     71961\n",
       "unique        8\n",
       "top          30\n",
       "freq      21863\n",
       "Name: age_bin, dtype: int64"
      ]
     },
     "execution_count": 17,
     "metadata": {},
     "output_type": "execute_result"
    }
   ],
   "source": [
    "df['age_bin'].describe()"
   ]
  },
  {
   "cell_type": "code",
   "execution_count": 18,
   "metadata": {
    "colab": {
     "base_uri": "https://localhost:8080/",
     "height": 367
    },
    "colab_type": "code",
    "id": "j0PHy4O3iVww",
    "outputId": "4c4d9e46-5078-43dd-d5b5-8e820a50b233"
   },
   "outputs": [
    {
     "data": {
      "text/plain": [
       "start_date                   object\n",
       "end_date                     object\n",
       "start_hour                    int64\n",
       "end_hour                      int64\n",
       "trip_duration                 int64\n",
       "start_station_id             object\n",
       "start_station_name           object\n",
       "start_station_latitude      float64\n",
       "start_station_longitude     float64\n",
       "end_station_id               object\n",
       "end_station_name             object\n",
       "end_station_latitude        float64\n",
       "end_station_longitude       float64\n",
       "bike_id                      object\n",
       "usertype                     object\n",
       "birth_year                    int64\n",
       "gender                       object\n",
       "day_since_register            int64\n",
       "age                           int64\n",
       "age_bin                    category\n",
       "dtype: object"
      ]
     },
     "execution_count": 18,
     "metadata": {},
     "output_type": "execute_result"
    }
   ],
   "source": [
    "# pd.cut 함수는 카테고리 자료형(범주형 데이터) \n",
    "df.dtypes"
   ]
  },
  {
   "cell_type": "markdown",
   "metadata": {
    "colab_type": "text",
    "id": "iwbDjl3CcImw"
   },
   "source": [
    "**연령대 분포 확인**"
   ]
  },
  {
   "cell_type": "code",
   "execution_count": 19,
   "metadata": {
    "colab": {
     "base_uri": "https://localhost:8080/",
     "height": 317
    },
    "colab_type": "code",
    "id": "2WVmFGUVismA",
    "outputId": "b2f2db14-0910-42b2-e0e2-e43212496daf"
   },
   "outputs": [
    {
     "data": {
      "image/png": "[encoded data removed]",
      "text/plain": [
       "<Figure size 720x360 with 1 Axes>"
      ]
     },
     "metadata": {},
     "output_type": "display_data"
    }
   ],
   "source": [
    "plt.figure(figsize=(10,5))\n",
    "df['age_bin'].value_counts(ascending=False).plot(kind='bar')\n",
    "plt.xlabel(\"연령대\")\n",
    "plt.ylabel(\"count\")\n",
    "plt.show()"
   ]
  },
  {
   "cell_type": "markdown",
   "metadata": {
    "colab_type": "text",
    "id": "jE27RA4MkKuV"
   },
   "source": [
    "> 20대가 많이 이용할 것이라고 생각한 것과 달리, 30대 40대가 주 사용 연령층이다. 30 40대면 주로 직장인의 연령대인데, 그럼 주로 출퇴근할 때 이용하나? <br/> **그럼, 대여 및 반납 시간대가 연령대별로 양상이 다르지 않을까?**\n",
    "\n",
    "**가설 설정** <br/>\n",
    "주 사용 연령층이 30-40대, 출퇴근 시간대에 대여한 기록이 많을 것이다. <br/><br/>\n",
    "**가능 액션** <br/>\n",
    "출퇴근 시간대 가격 인상"
   ]
  },
  {
   "cell_type": "code",
   "execution_count": 20,
   "metadata": {
    "colab": {
     "base_uri": "https://localhost:8080/",
     "height": 337
    },
    "colab_type": "code",
    "id": "dN1wP45slbSE",
    "outputId": "f3db80c9-c161-48bc-c7a4-1965b988615c"
   },
   "outputs": [
    {
     "data": {
      "text/html": [
       "<div>\n",
       "<style scoped>\n",
       "    .dataframe tbody tr th:only-of-type {\n",
       "        vertical-align: middle;\n",
       "    }\n",
       "\n",
       "    .dataframe tbody tr th {\n",
       "        vertical-align: top;\n",
       "    }\n",
       "\n",
       "    .dataframe thead th {\n",
       "        text-align: right;\n",
       "    }\n",
       "</style>\n",
       "<table border=\"1\" class=\"dataframe\">\n",
       "  <thead>\n",
       "    <tr style=\"text-align: right;\">\n",
       "      <th>start_hour</th>\n",
       "      <th>0</th>\n",
       "      <th>1</th>\n",
       "      <th>2</th>\n",
       "      <th>3</th>\n",
       "      <th>4</th>\n",
       "      <th>5</th>\n",
       "      <th>6</th>\n",
       "      <th>7</th>\n",
       "      <th>8</th>\n",
       "      <th>9</th>\n",
       "      <th>...</th>\n",
       "      <th>14</th>\n",
       "      <th>15</th>\n",
       "      <th>16</th>\n",
       "      <th>17</th>\n",
       "      <th>18</th>\n",
       "      <th>19</th>\n",
       "      <th>20</th>\n",
       "      <th>21</th>\n",
       "      <th>22</th>\n",
       "      <th>23</th>\n",
       "    </tr>\n",
       "    <tr>\n",
       "      <th>age_bin</th>\n",
       "      <th></th>\n",
       "      <th></th>\n",
       "      <th></th>\n",
       "      <th></th>\n",
       "      <th></th>\n",
       "      <th></th>\n",
       "      <th></th>\n",
       "      <th></th>\n",
       "      <th></th>\n",
       "      <th></th>\n",
       "      <th></th>\n",
       "      <th></th>\n",
       "      <th></th>\n",
       "      <th></th>\n",
       "      <th></th>\n",
       "      <th></th>\n",
       "      <th></th>\n",
       "      <th></th>\n",
       "      <th></th>\n",
       "      <th></th>\n",
       "      <th></th>\n",
       "    </tr>\n",
       "  </thead>\n",
       "  <tbody>\n",
       "    <tr>\n",
       "      <td>10</td>\n",
       "      <td>4.0</td>\n",
       "      <td>2.0</td>\n",
       "      <td>NaN</td>\n",
       "      <td>2.0</td>\n",
       "      <td>1.0</td>\n",
       "      <td>2.0</td>\n",
       "      <td>6.0</td>\n",
       "      <td>30.0</td>\n",
       "      <td>29.0</td>\n",
       "      <td>16.0</td>\n",
       "      <td>...</td>\n",
       "      <td>29.0</td>\n",
       "      <td>45.0</td>\n",
       "      <td>26.0</td>\n",
       "      <td>41.0</td>\n",
       "      <td>31.0</td>\n",
       "      <td>26.0</td>\n",
       "      <td>27.0</td>\n",
       "      <td>15.0</td>\n",
       "      <td>13.0</td>\n",
       "      <td>8.0</td>\n",
       "    </tr>\n",
       "    <tr>\n",
       "      <td>20</td>\n",
       "      <td>74.0</td>\n",
       "      <td>25.0</td>\n",
       "      <td>26.0</td>\n",
       "      <td>14.0</td>\n",
       "      <td>15.0</td>\n",
       "      <td>86.0</td>\n",
       "      <td>414.0</td>\n",
       "      <td>848.0</td>\n",
       "      <td>1520.0</td>\n",
       "      <td>935.0</td>\n",
       "      <td>...</td>\n",
       "      <td>534.0</td>\n",
       "      <td>559.0</td>\n",
       "      <td>799.0</td>\n",
       "      <td>1652.0</td>\n",
       "      <td>2123.0</td>\n",
       "      <td>1550.0</td>\n",
       "      <td>1063.0</td>\n",
       "      <td>734.0</td>\n",
       "      <td>483.0</td>\n",
       "      <td>264.0</td>\n",
       "    </tr>\n",
       "    <tr>\n",
       "      <td>30</td>\n",
       "      <td>66.0</td>\n",
       "      <td>45.0</td>\n",
       "      <td>22.0</td>\n",
       "      <td>12.0</td>\n",
       "      <td>22.0</td>\n",
       "      <td>128.0</td>\n",
       "      <td>601.0</td>\n",
       "      <td>1175.0</td>\n",
       "      <td>2152.0</td>\n",
       "      <td>1465.0</td>\n",
       "      <td>...</td>\n",
       "      <td>848.0</td>\n",
       "      <td>904.0</td>\n",
       "      <td>1276.0</td>\n",
       "      <td>2492.0</td>\n",
       "      <td>2770.0</td>\n",
       "      <td>1903.0</td>\n",
       "      <td>1238.0</td>\n",
       "      <td>792.0</td>\n",
       "      <td>549.0</td>\n",
       "      <td>300.0</td>\n",
       "    </tr>\n",
       "    <tr>\n",
       "      <td>40</td>\n",
       "      <td>61.0</td>\n",
       "      <td>27.0</td>\n",
       "      <td>24.0</td>\n",
       "      <td>29.0</td>\n",
       "      <td>19.0</td>\n",
       "      <td>134.0</td>\n",
       "      <td>427.0</td>\n",
       "      <td>985.0</td>\n",
       "      <td>1652.0</td>\n",
       "      <td>1182.0</td>\n",
       "      <td>...</td>\n",
       "      <td>1235.0</td>\n",
       "      <td>1259.0</td>\n",
       "      <td>1532.0</td>\n",
       "      <td>2299.0</td>\n",
       "      <td>1976.0</td>\n",
       "      <td>1326.0</td>\n",
       "      <td>781.0</td>\n",
       "      <td>544.0</td>\n",
       "      <td>359.0</td>\n",
       "      <td>236.0</td>\n",
       "    </tr>\n",
       "    <tr>\n",
       "      <td>50</td>\n",
       "      <td>23.0</td>\n",
       "      <td>9.0</td>\n",
       "      <td>3.0</td>\n",
       "      <td>7.0</td>\n",
       "      <td>14.0</td>\n",
       "      <td>95.0</td>\n",
       "      <td>308.0</td>\n",
       "      <td>686.0</td>\n",
       "      <td>961.0</td>\n",
       "      <td>520.0</td>\n",
       "      <td>...</td>\n",
       "      <td>522.0</td>\n",
       "      <td>538.0</td>\n",
       "      <td>767.0</td>\n",
       "      <td>1050.0</td>\n",
       "      <td>948.0</td>\n",
       "      <td>608.0</td>\n",
       "      <td>378.0</td>\n",
       "      <td>215.0</td>\n",
       "      <td>131.0</td>\n",
       "      <td>84.0</td>\n",
       "    </tr>\n",
       "    <tr>\n",
       "      <td>60</td>\n",
       "      <td>9.0</td>\n",
       "      <td>2.0</td>\n",
       "      <td>5.0</td>\n",
       "      <td>2.0</td>\n",
       "      <td>5.0</td>\n",
       "      <td>29.0</td>\n",
       "      <td>97.0</td>\n",
       "      <td>219.0</td>\n",
       "      <td>312.0</td>\n",
       "      <td>187.0</td>\n",
       "      <td>...</td>\n",
       "      <td>245.0</td>\n",
       "      <td>244.0</td>\n",
       "      <td>265.0</td>\n",
       "      <td>390.0</td>\n",
       "      <td>325.0</td>\n",
       "      <td>178.0</td>\n",
       "      <td>129.0</td>\n",
       "      <td>70.0</td>\n",
       "      <td>45.0</td>\n",
       "      <td>25.0</td>\n",
       "    </tr>\n",
       "    <tr>\n",
       "      <td>70</td>\n",
       "      <td>1.0</td>\n",
       "      <td>1.0</td>\n",
       "      <td>NaN</td>\n",
       "      <td>NaN</td>\n",
       "      <td>1.0</td>\n",
       "      <td>2.0</td>\n",
       "      <td>6.0</td>\n",
       "      <td>31.0</td>\n",
       "      <td>30.0</td>\n",
       "      <td>24.0</td>\n",
       "      <td>...</td>\n",
       "      <td>40.0</td>\n",
       "      <td>42.0</td>\n",
       "      <td>50.0</td>\n",
       "      <td>59.0</td>\n",
       "      <td>40.0</td>\n",
       "      <td>31.0</td>\n",
       "      <td>17.0</td>\n",
       "      <td>13.0</td>\n",
       "      <td>2.0</td>\n",
       "      <td>4.0</td>\n",
       "    </tr>\n",
       "    <tr>\n",
       "      <td>80</td>\n",
       "      <td>NaN</td>\n",
       "      <td>NaN</td>\n",
       "      <td>NaN</td>\n",
       "      <td>NaN</td>\n",
       "      <td>NaN</td>\n",
       "      <td>1.0</td>\n",
       "      <td>NaN</td>\n",
       "      <td>1.0</td>\n",
       "      <td>5.0</td>\n",
       "      <td>NaN</td>\n",
       "      <td>...</td>\n",
       "      <td>1.0</td>\n",
       "      <td>2.0</td>\n",
       "      <td>NaN</td>\n",
       "      <td>1.0</td>\n",
       "      <td>2.0</td>\n",
       "      <td>2.0</td>\n",
       "      <td>1.0</td>\n",
       "      <td>2.0</td>\n",
       "      <td>NaN</td>\n",
       "      <td>NaN</td>\n",
       "    </tr>\n",
       "  </tbody>\n",
       "</table>\n",
       "<p>8 rows × 24 columns</p>\n",
       "</div>"
      ],
      "text/plain": [
       "start_hour    0     1     2     3     4      5      6       7       8   \\\n",
       "age_bin                                                                  \n",
       "10           4.0   2.0   NaN   2.0   1.0    2.0    6.0    30.0    29.0   \n",
       "20          74.0  25.0  26.0  14.0  15.0   86.0  414.0   848.0  1520.0   \n",
       "30          66.0  45.0  22.0  12.0  22.0  128.0  601.0  1175.0  2152.0   \n",
       "40          61.0  27.0  24.0  29.0  19.0  134.0  427.0   985.0  1652.0   \n",
       "50          23.0   9.0   3.0   7.0  14.0   95.0  308.0   686.0   961.0   \n",
       "60           9.0   2.0   5.0   2.0   5.0   29.0   97.0   219.0   312.0   \n",
       "70           1.0   1.0   NaN   NaN   1.0    2.0    6.0    31.0    30.0   \n",
       "80           NaN   NaN   NaN   NaN   NaN    1.0    NaN     1.0     5.0   \n",
       "\n",
       "start_hour      9   ...      14      15      16      17      18      19  \\\n",
       "age_bin             ...                                                   \n",
       "10            16.0  ...    29.0    45.0    26.0    41.0    31.0    26.0   \n",
       "20           935.0  ...   534.0   559.0   799.0  1652.0  2123.0  1550.0   \n",
       "30          1465.0  ...   848.0   904.0  1276.0  2492.0  2770.0  1903.0   \n",
       "40          1182.0  ...  1235.0  1259.0  1532.0  2299.0  1976.0  1326.0   \n",
       "50           520.0  ...   522.0   538.0   767.0  1050.0   948.0   608.0   \n",
       "60           187.0  ...   245.0   244.0   265.0   390.0   325.0   178.0   \n",
       "70            24.0  ...    40.0    42.0    50.0    59.0    40.0    31.0   \n",
       "80             NaN  ...     1.0     2.0     NaN     1.0     2.0     2.0   \n",
       "\n",
       "start_hour      20     21     22     23  \n",
       "age_bin                                  \n",
       "10            27.0   15.0   13.0    8.0  \n",
       "20          1063.0  734.0  483.0  264.0  \n",
       "30          1238.0  792.0  549.0  300.0  \n",
       "40           781.0  544.0  359.0  236.0  \n",
       "50           378.0  215.0  131.0   84.0  \n",
       "60           129.0   70.0   45.0   25.0  \n",
       "70            17.0   13.0    2.0    4.0  \n",
       "80             1.0    2.0    NaN    NaN  \n",
       "\n",
       "[8 rows x 24 columns]"
      ]
     },
     "execution_count": 20,
     "metadata": {},
     "output_type": "execute_result"
    }
   ],
   "source": [
    "# 히트맵을 그리자\n",
    "base= df.groupby(['age_bin','start_hour'])['bike_id'].count().unstack()\n",
    "base"
   ]
  },
  {
   "cell_type": "code",
   "execution_count": 21,
   "metadata": {
    "colab": {
     "base_uri": "https://localhost:8080/",
     "height": 349
    },
    "colab_type": "code",
    "id": "aqQJitEHll8w",
    "outputId": "8ffa60c5-8da0-4c41-c8a5-51881042d9ff"
   },
   "outputs": [
    {
     "data": {
      "image/png": "[encoded data removed]",
      "text/plain": [
       "<Figure size 1080x360 with 2 Axes>"
      ]
     },
     "metadata": {},
     "output_type": "display_data"
    }
   ],
   "source": [
    "fig, ax = plt.subplots(figsize=(15,5))\n",
    "pal = sns.dark_palette(\"palegreen\", as_cmap=True) # color palette 설정\n",
    "sns.heatmap(base, \n",
    "            annot=True, # 셀에 숫자 표기\n",
    "            ax=ax, # 위에서 만들어 둔 캔버스의 (Matplotlib) Axes\n",
    "            linewidths=.5, # 셀을 나눌 선의 너비\n",
    "            fmt='.0f', # 소수점 자리 처리\n",
    "            cmap=pal) \n",
    "plt.ylabel('연령대')\n",
    "plt.xlabel('대여 시작 시간대')  \n",
    "plt.yticks(fontsize=12)\n",
    "plt.show()"
   ]
  },
  {
   "cell_type": "markdown",
   "metadata": {
    "colab_type": "text",
    "id": "gCHXPyPDmtz7"
   },
   "source": [
    "> 20-40대 전부 출퇴근시간대(7-9, 17-19)에 비출퇴근시간대에 비해 2배 이상의 대여기록을 보인다. <br/> 40대는 비교적으로 비출퇴근시간대에서도 유사한 양상의 대여 패턴을 보인다."
   ]
  },
  {
   "cell_type": "code",
   "execution_count": 22,
   "metadata": {
    "colab": {},
    "colab_type": "code",
    "id": "0eTJS7MUnaPL"
   },
   "outputs": [],
   "source": [
    "# 30대, 40대만 떼어서 보자\n",
    "df_30s = df.loc[(df['age_bin'] == 30)]\n",
    "df_40s = df.loc[(df['age_bin'] == 40)]"
   ]
  },
  {
   "cell_type": "code",
   "execution_count": 23,
   "metadata": {
    "colab": {
     "base_uri": "https://localhost:8080/",
     "height": 347
    },
    "colab_type": "code",
    "id": "6e9NIw4PnA7T",
    "outputId": "6a2cc219-eeeb-4fa0-fd31-01a80bbd8156"
   },
   "outputs": [
    {
     "data": {
      "image/png": "[encoded data removed]",
      "text/plain": [
       "<Figure size 720x360 with 1 Axes>"
      ]
     },
     "metadata": {},
     "output_type": "display_data"
    }
   ],
   "source": [
    "plt.figure(figsize=(10,5)) \n",
    "df_30s['start_hour'].value_counts().sort_index(ascending=True).plot(kind='bar')\n",
    "plt.xlabel('대여 시작 시간대')\n",
    "plt.ylabel('count')\n",
    "plt.title('30대 대여 시작 시간대별 이용 기록 수')\n",
    "plt.show() "
   ]
  },
  {
   "cell_type": "code",
   "execution_count": 24,
   "metadata": {
    "colab": {
     "base_uri": "https://localhost:8080/",
     "height": 347
    },
    "colab_type": "code",
    "id": "Qvd6-9pNneFi",
    "outputId": "06f8b29a-6839-490b-f546-6ef054facd74"
   },
   "outputs": [
    {
     "data": {
      "image/png": "[encoded data removed]",
      "text/plain": [
       "<Figure size 720x360 with 1 Axes>"
      ]
     },
     "metadata": {},
     "output_type": "display_data"
    }
   ],
   "source": [
    "plt.figure(figsize=(10,5)) \n",
    "df_40s['start_hour'].value_counts().sort_index(ascending=True).plot(kind='bar')\n",
    "plt.xlabel('대여 시작 시간대')\n",
    "plt.ylabel('count')\n",
    "plt.title('40대 대여 시작 시간대별 이용 기록 수')\n",
    "plt.show() "
   ]
  },
  {
   "cell_type": "markdown",
   "metadata": {
    "colab_type": "text",
    "id": "GNT-81vUpl-j"
   },
   "source": [
    "**해석 보태기**\n",
    "> * 주 사용 연령층은 30, 40대. 그 외에도 20대까지 출근 시간대(07시 ~ 09시)와 퇴근 시간대(17 ~ 19시)에 유난히 대여를 많이 하는 패턴. 이 시간대를 PEAK 시간대로 설정하고, PEAK 시간대 & 뉴욕에서 출퇴근을 많이 하는 지역에서 바이크를 대여할 때 가격을 1.2 ~ 1.3배 인상하는 실험을 하자\n",
    "> + 40대는 비교적으로 비 PEAK 시간대(10시 ~ 16시)에서도 타 연령층에 비교하여 대여 패턴이 균등한 편이었다. 그럼 비 PEAK 시간대의 바이크 대여를 늘리고자 할 때 40대를 노려보자. 40대의 낮 시간대 활동에 바이크를 더 활용할 수 있도록 쿠폰을 제공하거나 가격을 할인하는 방식으로 적극적으로 타겟하자"
   ]
  },
  {
   "cell_type": "markdown",
   "metadata": {
    "colab_type": "text",
    "id": "kiE7PgNUcImx"
   },
   "source": [
    "### 3.2\n",
    "\n",
    "Bike_id (바이크 하나하나에 붙어있는 고유 아이디) 에 따른 trip_duration을 시각화해주세요. trip_duration은 평균(mean)이어도 좋고, 누적(sum)이어도 좋습니다. 해석 보태 주세요.\n",
    "Groupby 함수 사용해주시면 편합니다.\n",
    "\n"
   ]
  },
  {
   "cell_type": "markdown",
   "metadata": {
    "colab_type": "text",
    "id": "tYghZizcpK26"
   },
   "source": [
    "**누적 집계 선택**<br/> 바이크마다 누적 사용시간을 파악하여 감가상각을 계산하거나, 사용량이 과한 바이크 위주로 수거 & 보수를 진행\n",
    "<br/> - 데이터 상 한계점: 하루 어치 데이터라는 점, 기간을 개월로 늘려서 보면 확실히 감가상각비 계산 가능"
   ]
  },
  {
   "cell_type": "code",
   "execution_count": 25,
   "metadata": {
    "colab": {},
    "colab_type": "code",
    "id": "N35W2zbTjLqM"
   },
   "outputs": [],
   "source": [
    "bike_utilization = df.groupby(['bike_id'])['trip_duration'].sum().to_frame()"
   ]
  },
  {
   "cell_type": "code",
   "execution_count": 26,
   "metadata": {
    "colab": {
     "base_uri": "https://localhost:8080/",
     "height": 287
    },
    "colab_type": "code",
    "id": "S36SSkzBcImz",
    "outputId": "27b2d971-7b18-4bd4-f991-e5b0a9dba976"
   },
   "outputs": [
    {
     "data": {
      "text/html": [
       "<div>\n",
       "<style scoped>\n",
       "    .dataframe tbody tr th:only-of-type {\n",
       "        vertical-align: middle;\n",
       "    }\n",
       "\n",
       "    .dataframe tbody tr th {\n",
       "        vertical-align: top;\n",
       "    }\n",
       "\n",
       "    .dataframe thead th {\n",
       "        text-align: right;\n",
       "    }\n",
       "</style>\n",
       "<table border=\"1\" class=\"dataframe\">\n",
       "  <thead>\n",
       "    <tr style=\"text-align: right;\">\n",
       "      <th></th>\n",
       "      <th>trip_duration</th>\n",
       "      <th>trip_duration_min</th>\n",
       "      <th>trip_duration_hour</th>\n",
       "    </tr>\n",
       "  </thead>\n",
       "  <tbody>\n",
       "    <tr>\n",
       "      <td>count</td>\n",
       "      <td>10147.0</td>\n",
       "      <td>10147.0</td>\n",
       "      <td>10147.0</td>\n",
       "    </tr>\n",
       "    <tr>\n",
       "      <td>mean</td>\n",
       "      <td>7431.0</td>\n",
       "      <td>124.0</td>\n",
       "      <td>2.0</td>\n",
       "    </tr>\n",
       "    <tr>\n",
       "      <td>std</td>\n",
       "      <td>22090.0</td>\n",
       "      <td>368.0</td>\n",
       "      <td>6.0</td>\n",
       "    </tr>\n",
       "    <tr>\n",
       "      <td>min</td>\n",
       "      <td>71.0</td>\n",
       "      <td>1.0</td>\n",
       "      <td>0.0</td>\n",
       "    </tr>\n",
       "    <tr>\n",
       "      <td>25%</td>\n",
       "      <td>2891.0</td>\n",
       "      <td>48.0</td>\n",
       "      <td>1.0</td>\n",
       "    </tr>\n",
       "    <tr>\n",
       "      <td>50%</td>\n",
       "      <td>5595.0</td>\n",
       "      <td>93.0</td>\n",
       "      <td>2.0</td>\n",
       "    </tr>\n",
       "    <tr>\n",
       "      <td>75%</td>\n",
       "      <td>9275.0</td>\n",
       "      <td>155.0</td>\n",
       "      <td>3.0</td>\n",
       "    </tr>\n",
       "    <tr>\n",
       "      <td>max</td>\n",
       "      <td>1362517.0</td>\n",
       "      <td>22709.0</td>\n",
       "      <td>378.0</td>\n",
       "    </tr>\n",
       "  </tbody>\n",
       "</table>\n",
       "</div>"
      ],
      "text/plain": [
       "       trip_duration  trip_duration_min  trip_duration_hour\n",
       "count        10147.0            10147.0             10147.0\n",
       "mean          7431.0              124.0                 2.0\n",
       "std          22090.0              368.0                 6.0\n",
       "min             71.0                1.0                 0.0\n",
       "25%           2891.0               48.0                 1.0\n",
       "50%           5595.0               93.0                 2.0\n",
       "75%           9275.0              155.0                 3.0\n",
       "max        1362517.0            22709.0               378.0"
      ]
     },
     "execution_count": 26,
     "metadata": {},
     "output_type": "execute_result"
    }
   ],
   "source": [
    "# trip_duration은 초 단위\n",
    "bike_utilization['trip_duration_min'] = bike_utilization['trip_duration'] / 60\n",
    "bike_utilization['trip_duration_hour'] = bike_utilization['trip_duration_min'] / 60\n",
    "bike_utilization.describe().round() "
   ]
  },
  {
   "cell_type": "markdown",
   "metadata": {
    "colab_type": "text",
    "id": "PXLkRt58rADX"
   },
   "source": [
    "**보고 싶은 정보에 집중, 누적 사용시간 TOP 인 바이크 ID를 추출하자**\n",
    "<br/>몇 퍼센트? 현재 하루에 돌아가는 고유한 바이크는 1만개 가량. <br/> 하루임을 고려하여 거의 종일 가동된 바이크만 골라내자"
   ]
  },
  {
   "cell_type": "code",
   "execution_count": 27,
   "metadata": {
    "colab": {},
    "colab_type": "code",
    "id": "pIebH9OpsFMT"
   },
   "outputs": [],
   "source": [
    "# 상위 0.1% 값을 cut_point로 지정\n",
    "cut_point = bike_utilization[\"trip_duration_hour\"].quantile(0.999) \n",
    "bike_cut=bike_utilization[ bike_utilization['trip_duration_hour'] > cut_point ]"
   ]
  },
  {
   "cell_type": "code",
   "execution_count": 28,
   "metadata": {
    "colab": {
     "base_uri": "https://localhost:8080/",
     "height": 407
    },
    "colab_type": "code",
    "id": "Dj9TxcVerbaH",
    "outputId": "915b29ac-5f67-4345-c2af-3897007abe6d"
   },
   "outputs": [
    {
     "data": {
      "text/html": [
       "<div>\n",
       "<style scoped>\n",
       "    .dataframe tbody tr th:only-of-type {\n",
       "        vertical-align: middle;\n",
       "    }\n",
       "\n",
       "    .dataframe tbody tr th {\n",
       "        vertical-align: top;\n",
       "    }\n",
       "\n",
       "    .dataframe thead th {\n",
       "        text-align: right;\n",
       "    }\n",
       "</style>\n",
       "<table border=\"1\" class=\"dataframe\">\n",
       "  <thead>\n",
       "    <tr style=\"text-align: right;\">\n",
       "      <th></th>\n",
       "      <th>trip_duration</th>\n",
       "      <th>trip_duration_min</th>\n",
       "      <th>trip_duration_hour</th>\n",
       "    </tr>\n",
       "    <tr>\n",
       "      <th>bike_id</th>\n",
       "      <th></th>\n",
       "      <th></th>\n",
       "      <th></th>\n",
       "    </tr>\n",
       "  </thead>\n",
       "  <tbody>\n",
       "    <tr>\n",
       "      <td>17354</td>\n",
       "      <td>145354</td>\n",
       "      <td>2422.566667</td>\n",
       "      <td>40.376111</td>\n",
       "    </tr>\n",
       "    <tr>\n",
       "      <td>19841</td>\n",
       "      <td>685774</td>\n",
       "      <td>11429.566667</td>\n",
       "      <td>190.492778</td>\n",
       "    </tr>\n",
       "    <tr>\n",
       "      <td>21514</td>\n",
       "      <td>145235</td>\n",
       "      <td>2420.583333</td>\n",
       "      <td>40.343056</td>\n",
       "    </tr>\n",
       "    <tr>\n",
       "      <td>24983</td>\n",
       "      <td>445775</td>\n",
       "      <td>7429.583333</td>\n",
       "      <td>123.826389</td>\n",
       "    </tr>\n",
       "    <tr>\n",
       "      <td>26404</td>\n",
       "      <td>179971</td>\n",
       "      <td>2999.516667</td>\n",
       "      <td>49.991944</td>\n",
       "    </tr>\n",
       "    <tr>\n",
       "      <td>26909</td>\n",
       "      <td>434861</td>\n",
       "      <td>7247.683333</td>\n",
       "      <td>120.794722</td>\n",
       "    </tr>\n",
       "    <tr>\n",
       "      <td>27371</td>\n",
       "      <td>347749</td>\n",
       "      <td>5795.816667</td>\n",
       "      <td>96.596944</td>\n",
       "    </tr>\n",
       "    <tr>\n",
       "      <td>28543</td>\n",
       "      <td>1048853</td>\n",
       "      <td>17480.883333</td>\n",
       "      <td>291.348056</td>\n",
       "    </tr>\n",
       "    <tr>\n",
       "      <td>30298</td>\n",
       "      <td>725557</td>\n",
       "      <td>12092.616667</td>\n",
       "      <td>201.543611</td>\n",
       "    </tr>\n",
       "    <tr>\n",
       "      <td>32245</td>\n",
       "      <td>1362517</td>\n",
       "      <td>22708.616667</td>\n",
       "      <td>378.476944</td>\n",
       "    </tr>\n",
       "    <tr>\n",
       "      <td>32256</td>\n",
       "      <td>252415</td>\n",
       "      <td>4206.916667</td>\n",
       "      <td>70.115278</td>\n",
       "    </tr>\n",
       "  </tbody>\n",
       "</table>\n",
       "</div>"
      ],
      "text/plain": [
       "         trip_duration  trip_duration_min  trip_duration_hour\n",
       "bike_id                                                      \n",
       "17354           145354        2422.566667           40.376111\n",
       "19841           685774       11429.566667          190.492778\n",
       "21514           145235        2420.583333           40.343056\n",
       "24983           445775        7429.583333          123.826389\n",
       "26404           179971        2999.516667           49.991944\n",
       "26909           434861        7247.683333          120.794722\n",
       "27371           347749        5795.816667           96.596944\n",
       "28543          1048853       17480.883333          291.348056\n",
       "30298           725557       12092.616667          201.543611\n",
       "32245          1362517       22708.616667          378.476944\n",
       "32256           252415        4206.916667           70.115278"
      ]
     },
     "execution_count": 28,
     "metadata": {},
     "output_type": "execute_result"
    }
   ],
   "source": [
    "bike_cut"
   ]
  },
  {
   "cell_type": "code",
   "execution_count": 34,
   "metadata": {
    "colab": {
     "base_uri": "https://localhost:8080/",
     "height": 398
    },
    "colab_type": "code",
    "id": "KaANqiobo3Vj",
    "outputId": "f52bcb77-7734-4a1f-c423-9f22e20aff2f"
   },
   "outputs": [
    {
     "data": {
      "image/png": "[encoded data removed]",
      "text/plain": [
       "<Figure size 720x432 with 1 Axes>"
      ]
     },
     "metadata": {},
     "output_type": "display_data"
    }
   ],
   "source": [
    "plt.figure(figsize=(10,6))\n",
    "bike_cut['trip_duration_hour'].sort_values().plot(kind='barh')\n",
    "plt.xlabel('trip_duration_hour')\n",
    "plt.ylabel('사용량 상위 바이크 ID')\n",
    "plt.title('사용량 상위 바이크 ID 누적 주행 시간')\n",
    "plt.show()"
   ]
  },
  {
   "cell_type": "markdown",
   "metadata": {
    "colab_type": "text",
    "id": "dxC1EAmqcIm2"
   },
   "source": [
    "**해석 보태기**\n",
    "> * 위에 추려진 바이크 ID는 비정상적으로 많이 사용되었으니 고장 가능성이 높거나, 감가상각비가 클 수 있으므로  대상으로 수거 및 보수를 진행하자\n",
    "* 또는 사용량이 비교적으로 낮았던 바이크와 재배치(위치 교환)하자 "
   ]
  },
  {
   "cell_type": "markdown",
   "metadata": {
    "colab_type": "text",
    "id": "3KmzodjzcIm4"
   },
   "source": [
    "### 3.3\n",
    "\n",
    "Bike_id, Trip_duration, + 한 가지 변수 더 추가해서 3개 이상 변수 시각화 방식으로 시각화 해주세요. 해석은 안 보태 주셔도 됩니다."
   ]
  },
  {
   "cell_type": "code",
   "execution_count": 30,
   "metadata": {
    "colab": {
     "base_uri": "https://localhost:8080/",
     "height": 1000
    },
    "colab_type": "code",
    "id": "Ovqd1nXcv4i5",
    "outputId": "17a9e8c9-594a-4cd6-bbf8-91df98f61b21"
   },
   "outputs": [
    {
     "data": {
      "text/html": [
       "<div>\n",
       "<style scoped>\n",
       "    .dataframe tbody tr th:only-of-type {\n",
       "        vertical-align: middle;\n",
       "    }\n",
       "\n",
       "    .dataframe tbody tr th {\n",
       "        vertical-align: top;\n",
       "    }\n",
       "\n",
       "    .dataframe thead th {\n",
       "        text-align: right;\n",
       "    }\n",
       "</style>\n",
       "<table border=\"1\" class=\"dataframe\">\n",
       "  <thead>\n",
       "    <tr style=\"text-align: right;\">\n",
       "      <th></th>\n",
       "      <th>start_date</th>\n",
       "      <th>end_date</th>\n",
       "      <th>start_hour</th>\n",
       "      <th>end_hour</th>\n",
       "      <th>trip_duration</th>\n",
       "      <th>start_station_id</th>\n",
       "      <th>start_station_name</th>\n",
       "      <th>start_station_latitude</th>\n",
       "      <th>start_station_longitude</th>\n",
       "      <th>end_station_id</th>\n",
       "      <th>end_station_name</th>\n",
       "      <th>end_station_latitude</th>\n",
       "      <th>end_station_longitude</th>\n",
       "      <th>bike_id</th>\n",
       "      <th>usertype</th>\n",
       "      <th>birth_year</th>\n",
       "      <th>gender</th>\n",
       "      <th>day_since_register</th>\n",
       "      <th>age</th>\n",
       "      <th>age_bin</th>\n",
       "    </tr>\n",
       "  </thead>\n",
       "  <tbody>\n",
       "    <tr>\n",
       "      <td>76</td>\n",
       "      <td>2018-05-01</td>\n",
       "      <td>2018-05-05</td>\n",
       "      <td>2</td>\n",
       "      <td>2</td>\n",
       "      <td>347749</td>\n",
       "      <td>3232</td>\n",
       "      <td>Bond St &amp; Fulton St</td>\n",
       "      <td>40.689622</td>\n",
       "      <td>-73.983043</td>\n",
       "      <td>450</td>\n",
       "      <td>W 49 St &amp; 8 Ave</td>\n",
       "      <td>40.762272</td>\n",
       "      <td>-73.987882</td>\n",
       "      <td>27371</td>\n",
       "      <td>Customer</td>\n",
       "      <td>1969</td>\n",
       "      <td>unknown</td>\n",
       "      <td>44</td>\n",
       "      <td>50</td>\n",
       "      <td>40</td>\n",
       "    </tr>\n",
       "    <tr>\n",
       "      <td>406</td>\n",
       "      <td>2018-05-01</td>\n",
       "      <td>2018-05-01</td>\n",
       "      <td>0</td>\n",
       "      <td>0</td>\n",
       "      <td>252</td>\n",
       "      <td>383</td>\n",
       "      <td>Greenwich Ave &amp; Charles St</td>\n",
       "      <td>40.735238</td>\n",
       "      <td>-74.000271</td>\n",
       "      <td>3263</td>\n",
       "      <td>Cooper Square &amp; Astor Pl</td>\n",
       "      <td>40.729515</td>\n",
       "      <td>-73.990753</td>\n",
       "      <td>26404</td>\n",
       "      <td>Subscriber</td>\n",
       "      <td>1988</td>\n",
       "      <td>male</td>\n",
       "      <td>56</td>\n",
       "      <td>31</td>\n",
       "      <td>30</td>\n",
       "    </tr>\n",
       "    <tr>\n",
       "      <td>2521</td>\n",
       "      <td>2018-05-01</td>\n",
       "      <td>2018-05-01</td>\n",
       "      <td>6</td>\n",
       "      <td>6</td>\n",
       "      <td>685</td>\n",
       "      <td>402</td>\n",
       "      <td>Broadway &amp; E 22 St</td>\n",
       "      <td>40.740343</td>\n",
       "      <td>-73.989551</td>\n",
       "      <td>450</td>\n",
       "      <td>W 49 St &amp; 8 Ave</td>\n",
       "      <td>40.762272</td>\n",
       "      <td>-73.987882</td>\n",
       "      <td>24983</td>\n",
       "      <td>Subscriber</td>\n",
       "      <td>1986</td>\n",
       "      <td>male</td>\n",
       "      <td>30</td>\n",
       "      <td>33</td>\n",
       "      <td>30</td>\n",
       "    </tr>\n",
       "    <tr>\n",
       "      <td>3065</td>\n",
       "      <td>2018-05-01</td>\n",
       "      <td>2018-05-01</td>\n",
       "      <td>7</td>\n",
       "      <td>7</td>\n",
       "      <td>307</td>\n",
       "      <td>498</td>\n",
       "      <td>Broadway &amp; W 32 St</td>\n",
       "      <td>40.748549</td>\n",
       "      <td>-73.988084</td>\n",
       "      <td>484</td>\n",
       "      <td>W 44 St &amp; 5 Ave</td>\n",
       "      <td>40.755003</td>\n",
       "      <td>-73.980144</td>\n",
       "      <td>30298</td>\n",
       "      <td>Subscriber</td>\n",
       "      <td>1968</td>\n",
       "      <td>male</td>\n",
       "      <td>7</td>\n",
       "      <td>51</td>\n",
       "      <td>50</td>\n",
       "    </tr>\n",
       "    <tr>\n",
       "      <td>3860</td>\n",
       "      <td>2018-05-01</td>\n",
       "      <td>2018-05-01</td>\n",
       "      <td>7</td>\n",
       "      <td>7</td>\n",
       "      <td>448</td>\n",
       "      <td>495</td>\n",
       "      <td>W 47 St &amp; 10 Ave</td>\n",
       "      <td>40.762699</td>\n",
       "      <td>-73.993012</td>\n",
       "      <td>499</td>\n",
       "      <td>Broadway &amp; W 60 St</td>\n",
       "      <td>40.769155</td>\n",
       "      <td>-73.981918</td>\n",
       "      <td>24983</td>\n",
       "      <td>Subscriber</td>\n",
       "      <td>1988</td>\n",
       "      <td>male</td>\n",
       "      <td>10</td>\n",
       "      <td>31</td>\n",
       "      <td>30</td>\n",
       "    </tr>\n",
       "    <tr>\n",
       "      <td>...</td>\n",
       "      <td>...</td>\n",
       "      <td>...</td>\n",
       "      <td>...</td>\n",
       "      <td>...</td>\n",
       "      <td>...</td>\n",
       "      <td>...</td>\n",
       "      <td>...</td>\n",
       "      <td>...</td>\n",
       "      <td>...</td>\n",
       "      <td>...</td>\n",
       "      <td>...</td>\n",
       "      <td>...</td>\n",
       "      <td>...</td>\n",
       "      <td>...</td>\n",
       "      <td>...</td>\n",
       "      <td>...</td>\n",
       "      <td>...</td>\n",
       "      <td>...</td>\n",
       "      <td>...</td>\n",
       "      <td>...</td>\n",
       "    </tr>\n",
       "    <tr>\n",
       "      <td>65283</td>\n",
       "      <td>2018-05-01</td>\n",
       "      <td>2018-05-01</td>\n",
       "      <td>20</td>\n",
       "      <td>20</td>\n",
       "      <td>492</td>\n",
       "      <td>402</td>\n",
       "      <td>Broadway &amp; E 22 St</td>\n",
       "      <td>40.740343</td>\n",
       "      <td>-73.989551</td>\n",
       "      <td>453</td>\n",
       "      <td>W 22 St &amp; 8 Ave</td>\n",
       "      <td>40.744751</td>\n",
       "      <td>-73.999154</td>\n",
       "      <td>32245</td>\n",
       "      <td>Subscriber</td>\n",
       "      <td>1963</td>\n",
       "      <td>male</td>\n",
       "      <td>14</td>\n",
       "      <td>56</td>\n",
       "      <td>50</td>\n",
       "    </tr>\n",
       "    <tr>\n",
       "      <td>66355</td>\n",
       "      <td>2018-05-01</td>\n",
       "      <td>2018-05-01</td>\n",
       "      <td>20</td>\n",
       "      <td>20</td>\n",
       "      <td>165</td>\n",
       "      <td>486</td>\n",
       "      <td>Broadway &amp; W 29 St</td>\n",
       "      <td>40.746201</td>\n",
       "      <td>-73.988557</td>\n",
       "      <td>402</td>\n",
       "      <td>Broadway &amp; E 22 St</td>\n",
       "      <td>40.740343</td>\n",
       "      <td>-73.989551</td>\n",
       "      <td>32245</td>\n",
       "      <td>Subscriber</td>\n",
       "      <td>1995</td>\n",
       "      <td>male</td>\n",
       "      <td>28</td>\n",
       "      <td>24</td>\n",
       "      <td>20</td>\n",
       "    </tr>\n",
       "    <tr>\n",
       "      <td>67912</td>\n",
       "      <td>2018-05-01</td>\n",
       "      <td>2018-05-06</td>\n",
       "      <td>20</td>\n",
       "      <td>21</td>\n",
       "      <td>437994</td>\n",
       "      <td>3077</td>\n",
       "      <td>Stagg St &amp; Union Ave</td>\n",
       "      <td>40.708771</td>\n",
       "      <td>-73.950953</td>\n",
       "      <td>3043</td>\n",
       "      <td>Lewis Ave &amp; Decatur St</td>\n",
       "      <td>40.681460</td>\n",
       "      <td>-73.934903</td>\n",
       "      <td>24983</td>\n",
       "      <td>Customer</td>\n",
       "      <td>1988</td>\n",
       "      <td>male</td>\n",
       "      <td>39</td>\n",
       "      <td>31</td>\n",
       "      <td>30</td>\n",
       "    </tr>\n",
       "    <tr>\n",
       "      <td>68489</td>\n",
       "      <td>2018-05-01</td>\n",
       "      <td>2018-05-01</td>\n",
       "      <td>20</td>\n",
       "      <td>21</td>\n",
       "      <td>616</td>\n",
       "      <td>453</td>\n",
       "      <td>W 22 St &amp; 8 Ave</td>\n",
       "      <td>40.744751</td>\n",
       "      <td>-73.999154</td>\n",
       "      <td>382</td>\n",
       "      <td>University Pl &amp; E 14 St</td>\n",
       "      <td>40.734927</td>\n",
       "      <td>-73.992005</td>\n",
       "      <td>32245</td>\n",
       "      <td>Subscriber</td>\n",
       "      <td>1964</td>\n",
       "      <td>male</td>\n",
       "      <td>44</td>\n",
       "      <td>55</td>\n",
       "      <td>50</td>\n",
       "    </tr>\n",
       "    <tr>\n",
       "      <td>68613</td>\n",
       "      <td>2018-05-01</td>\n",
       "      <td>2018-05-01</td>\n",
       "      <td>21</td>\n",
       "      <td>21</td>\n",
       "      <td>1832</td>\n",
       "      <td>382</td>\n",
       "      <td>University Pl &amp; E 14 St</td>\n",
       "      <td>40.734927</td>\n",
       "      <td>-73.992005</td>\n",
       "      <td>3080</td>\n",
       "      <td>S 4 St &amp; Rodney St</td>\n",
       "      <td>40.709340</td>\n",
       "      <td>-73.956080</td>\n",
       "      <td>32245</td>\n",
       "      <td>Subscriber</td>\n",
       "      <td>1973</td>\n",
       "      <td>male</td>\n",
       "      <td>24</td>\n",
       "      <td>46</td>\n",
       "      <td>40</td>\n",
       "    </tr>\n",
       "  </tbody>\n",
       "</table>\n",
       "<p>83 rows × 20 columns</p>\n",
       "</div>"
      ],
      "text/plain": [
       "       start_date    end_date  start_hour  end_hour  trip_duration  \\\n",
       "76     2018-05-01  2018-05-05           2         2         347749   \n",
       "406    2018-05-01  2018-05-01           0         0            252   \n",
       "2521   2018-05-01  2018-05-01           6         6            685   \n",
       "3065   2018-05-01  2018-05-01           7         7            307   \n",
       "3860   2018-05-01  2018-05-01           7         7            448   \n",
       "...           ...         ...         ...       ...            ...   \n",
       "65283  2018-05-01  2018-05-01          20        20            492   \n",
       "66355  2018-05-01  2018-05-01          20        20            165   \n",
       "67912  2018-05-01  2018-05-06          20        21         437994   \n",
       "68489  2018-05-01  2018-05-01          20        21            616   \n",
       "68613  2018-05-01  2018-05-01          21        21           1832   \n",
       "\n",
       "      start_station_id          start_station_name  start_station_latitude  \\\n",
       "76                3232         Bond St & Fulton St               40.689622   \n",
       "406                383  Greenwich Ave & Charles St               40.735238   \n",
       "2521               402          Broadway & E 22 St               40.740343   \n",
       "3065               498          Broadway & W 32 St               40.748549   \n",
       "3860               495            W 47 St & 10 Ave               40.762699   \n",
       "...                ...                         ...                     ...   \n",
       "65283              402          Broadway & E 22 St               40.740343   \n",
       "66355              486          Broadway & W 29 St               40.746201   \n",
       "67912             3077        Stagg St & Union Ave               40.708771   \n",
       "68489              453             W 22 St & 8 Ave               40.744751   \n",
       "68613              382     University Pl & E 14 St               40.734927   \n",
       "\n",
       "       start_station_longitude end_station_id          end_station_name  \\\n",
       "76                  -73.983043            450           W 49 St & 8 Ave   \n",
       "406                 -74.000271           3263  Cooper Square & Astor Pl   \n",
       "2521                -73.989551            450           W 49 St & 8 Ave   \n",
       "3065                -73.988084            484           W 44 St & 5 Ave   \n",
       "3860                -73.993012            499        Broadway & W 60 St   \n",
       "...                        ...            ...                       ...   \n",
       "65283               -73.989551            453           W 22 St & 8 Ave   \n",
       "66355               -73.988557            402        Broadway & E 22 St   \n",
       "67912               -73.950953           3043    Lewis Ave & Decatur St   \n",
       "68489               -73.999154            382   University Pl & E 14 St   \n",
       "68613               -73.992005           3080        S 4 St & Rodney St   \n",
       "\n",
       "       end_station_latitude  end_station_longitude bike_id    usertype  \\\n",
       "76                40.762272             -73.987882   27371    Customer   \n",
       "406               40.729515             -73.990753   26404  Subscriber   \n",
       "2521              40.762272             -73.987882   24983  Subscriber   \n",
       "3065              40.755003             -73.980144   30298  Subscriber   \n",
       "3860              40.769155             -73.981918   24983  Subscriber   \n",
       "...                     ...                    ...     ...         ...   \n",
       "65283             40.744751             -73.999154   32245  Subscriber   \n",
       "66355             40.740343             -73.989551   32245  Subscriber   \n",
       "67912             40.681460             -73.934903   24983    Customer   \n",
       "68489             40.734927             -73.992005   32245  Subscriber   \n",
       "68613             40.709340             -73.956080   32245  Subscriber   \n",
       "\n",
       "       birth_year   gender  day_since_register  age age_bin  \n",
       "76           1969  unknown                  44   50      40  \n",
       "406          1988     male                  56   31      30  \n",
       "2521         1986     male                  30   33      30  \n",
       "3065         1968     male                   7   51      50  \n",
       "3860         1988     male                  10   31      30  \n",
       "...           ...      ...                 ...  ...     ...  \n",
       "65283        1963     male                  14   56      50  \n",
       "66355        1995     male                  28   24      20  \n",
       "67912        1988     male                  39   31      30  \n",
       "68489        1964     male                  44   55      50  \n",
       "68613        1973     male                  24   46      40  \n",
       "\n",
       "[83 rows x 20 columns]"
      ]
     },
     "execution_count": 30,
     "metadata": {},
     "output_type": "execute_result"
    }
   ],
   "source": [
    "# 3.2에서 골라낸 TOP 바이크들의 사용 기록으로 df_top으로 생성\n",
    "top_list = bike_cut.index.values\n",
    "df_top=df[df['bike_id'].isin(top_list)]\n",
    "df_top"
   ]
  },
  {
   "cell_type": "code",
   "execution_count": 31,
   "metadata": {
    "colab": {},
    "colab_type": "code",
    "id": "1LMPyHj1ytxF"
   },
   "outputs": [],
   "source": [
    "# 바이크별로 다녀온 start station 고유 수\n",
    "bike_cut['station_count'] = df_top.groupby(['bike_id'])['start_station_id'].nunique()"
   ]
  },
  {
   "cell_type": "code",
   "execution_count": 32,
   "metadata": {
    "colab": {
     "base_uri": "https://localhost:8080/",
     "height": 407
    },
    "colab_type": "code",
    "id": "fEaxqRztzt6Q",
    "outputId": "81151a77-0321-4d80-ddfc-9c5f805c3868"
   },
   "outputs": [
    {
     "data": {
      "text/html": [
       "<div>\n",
       "<style scoped>\n",
       "    .dataframe tbody tr th:only-of-type {\n",
       "        vertical-align: middle;\n",
       "    }\n",
       "\n",
       "    .dataframe tbody tr th {\n",
       "        vertical-align: top;\n",
       "    }\n",
       "\n",
       "    .dataframe thead th {\n",
       "        text-align: right;\n",
       "    }\n",
       "</style>\n",
       "<table border=\"1\" class=\"dataframe\">\n",
       "  <thead>\n",
       "    <tr style=\"text-align: right;\">\n",
       "      <th></th>\n",
       "      <th>trip_duration</th>\n",
       "      <th>trip_duration_min</th>\n",
       "      <th>trip_duration_hour</th>\n",
       "      <th>station_count</th>\n",
       "    </tr>\n",
       "    <tr>\n",
       "      <th>bike_id</th>\n",
       "      <th></th>\n",
       "      <th></th>\n",
       "      <th></th>\n",
       "      <th></th>\n",
       "    </tr>\n",
       "  </thead>\n",
       "  <tbody>\n",
       "    <tr>\n",
       "      <td>17354</td>\n",
       "      <td>145354</td>\n",
       "      <td>2422.566667</td>\n",
       "      <td>40.376111</td>\n",
       "      <td>7</td>\n",
       "    </tr>\n",
       "    <tr>\n",
       "      <td>19841</td>\n",
       "      <td>685774</td>\n",
       "      <td>11429.566667</td>\n",
       "      <td>190.492778</td>\n",
       "      <td>9</td>\n",
       "    </tr>\n",
       "    <tr>\n",
       "      <td>21514</td>\n",
       "      <td>145235</td>\n",
       "      <td>2420.583333</td>\n",
       "      <td>40.343056</td>\n",
       "      <td>3</td>\n",
       "    </tr>\n",
       "    <tr>\n",
       "      <td>24983</td>\n",
       "      <td>445775</td>\n",
       "      <td>7429.583333</td>\n",
       "      <td>123.826389</td>\n",
       "      <td>11</td>\n",
       "    </tr>\n",
       "    <tr>\n",
       "      <td>26404</td>\n",
       "      <td>179971</td>\n",
       "      <td>2999.516667</td>\n",
       "      <td>49.991944</td>\n",
       "      <td>2</td>\n",
       "    </tr>\n",
       "    <tr>\n",
       "      <td>26909</td>\n",
       "      <td>434861</td>\n",
       "      <td>7247.683333</td>\n",
       "      <td>120.794722</td>\n",
       "      <td>9</td>\n",
       "    </tr>\n",
       "    <tr>\n",
       "      <td>27371</td>\n",
       "      <td>347749</td>\n",
       "      <td>5795.816667</td>\n",
       "      <td>96.596944</td>\n",
       "      <td>1</td>\n",
       "    </tr>\n",
       "    <tr>\n",
       "      <td>28543</td>\n",
       "      <td>1048853</td>\n",
       "      <td>17480.883333</td>\n",
       "      <td>291.348056</td>\n",
       "      <td>3</td>\n",
       "    </tr>\n",
       "    <tr>\n",
       "      <td>30298</td>\n",
       "      <td>725557</td>\n",
       "      <td>12092.616667</td>\n",
       "      <td>201.543611</td>\n",
       "      <td>3</td>\n",
       "    </tr>\n",
       "    <tr>\n",
       "      <td>32245</td>\n",
       "      <td>1362517</td>\n",
       "      <td>22708.616667</td>\n",
       "      <td>378.476944</td>\n",
       "      <td>21</td>\n",
       "    </tr>\n",
       "    <tr>\n",
       "      <td>32256</td>\n",
       "      <td>252415</td>\n",
       "      <td>4206.916667</td>\n",
       "      <td>70.115278</td>\n",
       "      <td>8</td>\n",
       "    </tr>\n",
       "  </tbody>\n",
       "</table>\n",
       "</div>"
      ],
      "text/plain": [
       "         trip_duration  trip_duration_min  trip_duration_hour  station_count\n",
       "bike_id                                                                     \n",
       "17354           145354        2422.566667           40.376111              7\n",
       "19841           685774       11429.566667          190.492778              9\n",
       "21514           145235        2420.583333           40.343056              3\n",
       "24983           445775        7429.583333          123.826389             11\n",
       "26404           179971        2999.516667           49.991944              2\n",
       "26909           434861        7247.683333          120.794722              9\n",
       "27371           347749        5795.816667           96.596944              1\n",
       "28543          1048853       17480.883333          291.348056              3\n",
       "30298           725557       12092.616667          201.543611              3\n",
       "32245          1362517       22708.616667          378.476944             21\n",
       "32256           252415        4206.916667           70.115278              8"
      ]
     },
     "execution_count": 32,
     "metadata": {},
     "output_type": "execute_result"
    }
   ],
   "source": [
    "bike_cut"
   ]
  },
  {
   "cell_type": "code",
   "execution_count": 33,
   "metadata": {
    "colab": {
     "base_uri": "https://localhost:8080/",
     "height": 383
    },
    "colab_type": "code",
    "id": "6ARisliAcIm5",
    "outputId": "03a6b988-3b30-43e6-bf37-3a427425a79a"
   },
   "outputs": [
    {
     "data": {
      "image/png": "[encoded data removed]",
      "text/plain": [
       "<Figure size 720x432 with 2 Axes>"
      ]
     },
     "metadata": {},
     "output_type": "display_data"
    }
   ],
   "source": [
    "plt.figure(figsize=(10,6))\n",
    "plt.scatter(bike_cut['station_count'], # x축\n",
    "            bike_cut.index.values, # y축\n",
    "            c=bike_cut['trip_duration_hour'], # 색상\n",
    "            s=bike_cut['trip_duration_hour']*20, # 사이즈 \n",
    "            # 20을 곱해본 이유는 그래프 사이즈에 맞게 원의 지름을 키워주기 위함\n",
    "            alpha=0.4, # 투명도\n",
    "            cmap='viridis') # 컬러바 종류\n",
    "plt.colorbar()\n",
    "plt.ylabel('상위 0,1% 사용량 바이크ID')\n",
    "plt.xlabel('배치된 시작 지역 종류 수')\n",
    "# plt.xticks(rotation=90) # x축에 종류가 많으면 label 돌려주기\n",
    "plt.show()"
   ]
  },
  {
   "cell_type": "markdown",
   "metadata": {
    "colab_type": "text",
    "id": "QNffQwqZcIm8"
   },
   "source": [
    "**해석 보태기**\n",
    "> * 여기 저기 옮겨 다니며 사용이 많이 된 바이크 32245 : 누적 주행 시간이 가장 많음\n",
    "* 대부분 하루 안에 10개 이하의 시작 지역을 다녀온다\n",
    "* 추가 보고싶은 부분: 누적 주행시간이 많았던 바이크들의 이동 경로"
   ]
  }
 ],
 "metadata": {
  "colab": {
   "collapsed_sections": [],
   "name": "Session 03. Quest Solution.ipynb",
   "provenance": []
  },
  "kernelspec": {
   "display_name": "env",
   "language": "python",
   "name": "env"
  },
  "language_info": {
   "codemirror_mode": {
    "name": "ipython",
    "version": 3
   },
   "file_extension": ".py",
   "mimetype": "text/x-python",
   "name": "python",
   "nbconvert_exporter": "python",
   "pygments_lexer": "ipython3",
   "version": "3.7.0"
  }
 },
 "nbformat": 4,
 "nbformat_minor": 1
}
